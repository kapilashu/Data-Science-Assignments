{
 "cells": [
  {
   "cell_type": "markdown",
   "metadata": {},
   "source": [
    "# ABSTRACT\n",
    "\n",
    "This study is about the computers and its peripherals like Hard disk, cd, its RAM, screen size , its pricing and whether it is a premium system or not. After understanding the correlation between various predictors by plotting heatmap and pairplot, we have predicted the prices of computer by performing Linear regression. Also we have done logistic regression for classifying whther the system is a premium or not."
   ]
  },
  {
   "cell_type": "code",
   "execution_count": 2,
   "metadata": {},
   "outputs": [],
   "source": [
    "# importing libraries\n",
    "%matplotlib inline\n",
    "import pandas as pd\n",
    "import matplotlib.pyplot as plt\n",
    "import numpy as np\n",
    "from scipy import stats\n",
    "import seaborn as sns\n",
    "import statsmodels.api as sm\n",
    "from sklearn import linear_model\n",
    "from statsmodels.formula.api import ols\n",
    "from sklearn.linear_model import LinearRegression, Ridge, Lasso\n",
    "from sklearn.preprocessing import PolynomialFeatures\n",
    "from sklearn.pipeline import make_pipeline\n",
    "from sklearn.cross_validation import train_test_split\n",
    "import warnings\n",
    "warnings.filterwarnings('ignore')\n",
    "from sklearn.preprocessing import LabelEncoder\n",
    "from sklearn.model_selection import train_test_split\n",
    "from sklearn.linear_model import LinearRegression\n",
    "from sklearn.tree import DecisionTreeRegressor\n",
    "from sklearn.ensemble import RandomForestRegressor\n",
    "from sklearn.metrics import mean_squared_error, mean_squared_log_error\n",
    "from sklearn.preprocessing import scale\n",
    "from sklearn.linear_model import LogisticRegression\n",
    "from sklearn import metrics\n",
    "from sklearn import preprocessing\n",
    "from pylab import rcParams\n",
    "from scipy.stats import spearmanr\n",
    "from sklearn.base import BaseEstimator, TransformerMixin\n",
    "from sklearn.preprocessing import Imputer\n",
    "\n",
    "from statsmodels.stats.outliers_influence import variance_inflation_factor\n",
    "from sklearn.cross_validation import cross_val_score\n",
    "from sklearn.cross_validation import KFold\n",
    "from sklearn.pipeline import Pipeline\n",
    "from sklearn.preprocessing import StandardScaler\n",
    "from sklearn.linear_model import SGDClassifier\n",
    "from sklearn.datasets import load_iris\n",
    "from sklearn.metrics import classification_report\n"
   ]
  },
  {
   "cell_type": "markdown",
   "metadata": {},
   "source": [
    "Importing the dataset and reading it with Pandas dataframe"
   ]
  },
  {
   "cell_type": "code",
   "execution_count": 3,
   "metadata": {},
   "outputs": [],
   "source": [
    "df=pd.read_csv(\"Computers.csv\")\n"
   ]
  },
  {
   "cell_type": "code",
   "execution_count": 4,
   "metadata": {},
   "outputs": [
    {
     "name": "stdout",
     "output_type": "stream",
     "text": [
      "<class 'pandas.core.frame.DataFrame'>\n",
      "RangeIndex: 6259 entries, 0 to 6258\n",
      "Data columns (total 11 columns):\n",
      "S.No.      6259 non-null int64\n",
      "price      6259 non-null int64\n",
      "speed      6259 non-null int64\n",
      "hd         6259 non-null int64\n",
      "ram        6259 non-null int64\n",
      "screen     6259 non-null int64\n",
      "cd         6259 non-null object\n",
      "multi      6259 non-null object\n",
      "premium    6259 non-null object\n",
      "ads        6259 non-null int64\n",
      "trend      6259 non-null int64\n",
      "dtypes: int64(8), object(3)\n",
      "memory usage: 538.0+ KB\n"
     ]
    }
   ],
   "source": [
    "df.info()"
   ]
  },
  {
   "cell_type": "markdown",
   "metadata": {},
   "source": [
    "In the below code we will be changing the value of columns 'cd','multi' and 'premium' into binary values of 1 and 0."
   ]
  },
  {
   "cell_type": "code",
   "execution_count": 5,
   "metadata": {},
   "outputs": [],
   "source": [
    "cdNum={\"yes\":1,\"no\":0}"
   ]
  },
  {
   "cell_type": "code",
   "execution_count": 6,
   "metadata": {},
   "outputs": [],
   "source": [
    "df.cd=[cdNum[i] for i in df.cd]"
   ]
  },
  {
   "cell_type": "code",
   "execution_count": 7,
   "metadata": {},
   "outputs": [
    {
     "name": "stdout",
     "output_type": "stream",
     "text": [
      "<class 'pandas.core.frame.DataFrame'>\n",
      "RangeIndex: 6259 entries, 0 to 6258\n",
      "Data columns (total 11 columns):\n",
      "S.No.      6259 non-null int64\n",
      "price      6259 non-null int64\n",
      "speed      6259 non-null int64\n",
      "hd         6259 non-null int64\n",
      "ram        6259 non-null int64\n",
      "screen     6259 non-null int64\n",
      "cd         6259 non-null int64\n",
      "multi      6259 non-null object\n",
      "premium    6259 non-null object\n",
      "ads        6259 non-null int64\n",
      "trend      6259 non-null int64\n",
      "dtypes: int64(9), object(2)\n",
      "memory usage: 538.0+ KB\n"
     ]
    }
   ],
   "source": [
    "df.info()"
   ]
  },
  {
   "cell_type": "code",
   "execution_count": 8,
   "metadata": {},
   "outputs": [
    {
     "data": {
      "text/html": [
       "<div>\n",
       "<style scoped>\n",
       "    .dataframe tbody tr th:only-of-type {\n",
       "        vertical-align: middle;\n",
       "    }\n",
       "\n",
       "    .dataframe tbody tr th {\n",
       "        vertical-align: top;\n",
       "    }\n",
       "\n",
       "    .dataframe thead th {\n",
       "        text-align: right;\n",
       "    }\n",
       "</style>\n",
       "<table border=\"1\" class=\"dataframe\">\n",
       "  <thead>\n",
       "    <tr style=\"text-align: right;\">\n",
       "      <th></th>\n",
       "      <th>S.No.</th>\n",
       "      <th>price</th>\n",
       "      <th>speed</th>\n",
       "      <th>hd</th>\n",
       "      <th>ram</th>\n",
       "      <th>screen</th>\n",
       "      <th>cd</th>\n",
       "      <th>multi</th>\n",
       "      <th>premium</th>\n",
       "      <th>ads</th>\n",
       "      <th>trend</th>\n",
       "    </tr>\n",
       "  </thead>\n",
       "  <tbody>\n",
       "    <tr>\n",
       "      <th>0</th>\n",
       "      <td>1</td>\n",
       "      <td>1499</td>\n",
       "      <td>25</td>\n",
       "      <td>80</td>\n",
       "      <td>4</td>\n",
       "      <td>14</td>\n",
       "      <td>0</td>\n",
       "      <td>0</td>\n",
       "      <td>yes</td>\n",
       "      <td>94</td>\n",
       "      <td>1</td>\n",
       "    </tr>\n",
       "    <tr>\n",
       "      <th>1</th>\n",
       "      <td>2</td>\n",
       "      <td>1795</td>\n",
       "      <td>33</td>\n",
       "      <td>85</td>\n",
       "      <td>2</td>\n",
       "      <td>14</td>\n",
       "      <td>0</td>\n",
       "      <td>0</td>\n",
       "      <td>yes</td>\n",
       "      <td>94</td>\n",
       "      <td>1</td>\n",
       "    </tr>\n",
       "    <tr>\n",
       "      <th>2</th>\n",
       "      <td>3</td>\n",
       "      <td>1595</td>\n",
       "      <td>25</td>\n",
       "      <td>170</td>\n",
       "      <td>4</td>\n",
       "      <td>15</td>\n",
       "      <td>0</td>\n",
       "      <td>0</td>\n",
       "      <td>yes</td>\n",
       "      <td>94</td>\n",
       "      <td>1</td>\n",
       "    </tr>\n",
       "    <tr>\n",
       "      <th>3</th>\n",
       "      <td>4</td>\n",
       "      <td>1849</td>\n",
       "      <td>25</td>\n",
       "      <td>170</td>\n",
       "      <td>8</td>\n",
       "      <td>14</td>\n",
       "      <td>0</td>\n",
       "      <td>0</td>\n",
       "      <td>no</td>\n",
       "      <td>94</td>\n",
       "      <td>1</td>\n",
       "    </tr>\n",
       "    <tr>\n",
       "      <th>4</th>\n",
       "      <td>5</td>\n",
       "      <td>3295</td>\n",
       "      <td>33</td>\n",
       "      <td>340</td>\n",
       "      <td>16</td>\n",
       "      <td>14</td>\n",
       "      <td>0</td>\n",
       "      <td>0</td>\n",
       "      <td>yes</td>\n",
       "      <td>94</td>\n",
       "      <td>1</td>\n",
       "    </tr>\n",
       "    <tr>\n",
       "      <th>5</th>\n",
       "      <td>6</td>\n",
       "      <td>3695</td>\n",
       "      <td>66</td>\n",
       "      <td>340</td>\n",
       "      <td>16</td>\n",
       "      <td>14</td>\n",
       "      <td>0</td>\n",
       "      <td>0</td>\n",
       "      <td>yes</td>\n",
       "      <td>94</td>\n",
       "      <td>1</td>\n",
       "    </tr>\n",
       "    <tr>\n",
       "      <th>6</th>\n",
       "      <td>7</td>\n",
       "      <td>1720</td>\n",
       "      <td>25</td>\n",
       "      <td>170</td>\n",
       "      <td>4</td>\n",
       "      <td>14</td>\n",
       "      <td>1</td>\n",
       "      <td>0</td>\n",
       "      <td>yes</td>\n",
       "      <td>94</td>\n",
       "      <td>1</td>\n",
       "    </tr>\n",
       "    <tr>\n",
       "      <th>7</th>\n",
       "      <td>8</td>\n",
       "      <td>1995</td>\n",
       "      <td>50</td>\n",
       "      <td>85</td>\n",
       "      <td>2</td>\n",
       "      <td>14</td>\n",
       "      <td>0</td>\n",
       "      <td>0</td>\n",
       "      <td>yes</td>\n",
       "      <td>94</td>\n",
       "      <td>1</td>\n",
       "    </tr>\n",
       "    <tr>\n",
       "      <th>8</th>\n",
       "      <td>9</td>\n",
       "      <td>2225</td>\n",
       "      <td>50</td>\n",
       "      <td>210</td>\n",
       "      <td>8</td>\n",
       "      <td>14</td>\n",
       "      <td>0</td>\n",
       "      <td>0</td>\n",
       "      <td>yes</td>\n",
       "      <td>94</td>\n",
       "      <td>1</td>\n",
       "    </tr>\n",
       "    <tr>\n",
       "      <th>9</th>\n",
       "      <td>10</td>\n",
       "      <td>2575</td>\n",
       "      <td>50</td>\n",
       "      <td>210</td>\n",
       "      <td>4</td>\n",
       "      <td>15</td>\n",
       "      <td>0</td>\n",
       "      <td>0</td>\n",
       "      <td>yes</td>\n",
       "      <td>94</td>\n",
       "      <td>1</td>\n",
       "    </tr>\n",
       "    <tr>\n",
       "      <th>10</th>\n",
       "      <td>11</td>\n",
       "      <td>2195</td>\n",
       "      <td>33</td>\n",
       "      <td>170</td>\n",
       "      <td>8</td>\n",
       "      <td>15</td>\n",
       "      <td>0</td>\n",
       "      <td>0</td>\n",
       "      <td>yes</td>\n",
       "      <td>94</td>\n",
       "      <td>1</td>\n",
       "    </tr>\n",
       "    <tr>\n",
       "      <th>11</th>\n",
       "      <td>12</td>\n",
       "      <td>2605</td>\n",
       "      <td>66</td>\n",
       "      <td>210</td>\n",
       "      <td>8</td>\n",
       "      <td>14</td>\n",
       "      <td>0</td>\n",
       "      <td>0</td>\n",
       "      <td>yes</td>\n",
       "      <td>94</td>\n",
       "      <td>1</td>\n",
       "    </tr>\n",
       "    <tr>\n",
       "      <th>12</th>\n",
       "      <td>13</td>\n",
       "      <td>2045</td>\n",
       "      <td>50</td>\n",
       "      <td>130</td>\n",
       "      <td>4</td>\n",
       "      <td>14</td>\n",
       "      <td>0</td>\n",
       "      <td>0</td>\n",
       "      <td>yes</td>\n",
       "      <td>94</td>\n",
       "      <td>1</td>\n",
       "    </tr>\n",
       "    <tr>\n",
       "      <th>13</th>\n",
       "      <td>14</td>\n",
       "      <td>2295</td>\n",
       "      <td>25</td>\n",
       "      <td>245</td>\n",
       "      <td>8</td>\n",
       "      <td>14</td>\n",
       "      <td>0</td>\n",
       "      <td>0</td>\n",
       "      <td>yes</td>\n",
       "      <td>94</td>\n",
       "      <td>1</td>\n",
       "    </tr>\n",
       "    <tr>\n",
       "      <th>14</th>\n",
       "      <td>15</td>\n",
       "      <td>2699</td>\n",
       "      <td>50</td>\n",
       "      <td>212</td>\n",
       "      <td>8</td>\n",
       "      <td>14</td>\n",
       "      <td>0</td>\n",
       "      <td>0</td>\n",
       "      <td>yes</td>\n",
       "      <td>94</td>\n",
       "      <td>1</td>\n",
       "    </tr>\n",
       "    <tr>\n",
       "      <th>15</th>\n",
       "      <td>16</td>\n",
       "      <td>2225</td>\n",
       "      <td>50</td>\n",
       "      <td>130</td>\n",
       "      <td>4</td>\n",
       "      <td>14</td>\n",
       "      <td>0</td>\n",
       "      <td>0</td>\n",
       "      <td>yes</td>\n",
       "      <td>94</td>\n",
       "      <td>1</td>\n",
       "    </tr>\n",
       "    <tr>\n",
       "      <th>16</th>\n",
       "      <td>17</td>\n",
       "      <td>1595</td>\n",
       "      <td>33</td>\n",
       "      <td>85</td>\n",
       "      <td>2</td>\n",
       "      <td>14</td>\n",
       "      <td>0</td>\n",
       "      <td>0</td>\n",
       "      <td>yes</td>\n",
       "      <td>94</td>\n",
       "      <td>1</td>\n",
       "    </tr>\n",
       "    <tr>\n",
       "      <th>17</th>\n",
       "      <td>18</td>\n",
       "      <td>2325</td>\n",
       "      <td>33</td>\n",
       "      <td>210</td>\n",
       "      <td>4</td>\n",
       "      <td>15</td>\n",
       "      <td>0</td>\n",
       "      <td>0</td>\n",
       "      <td>yes</td>\n",
       "      <td>94</td>\n",
       "      <td>1</td>\n",
       "    </tr>\n",
       "    <tr>\n",
       "      <th>18</th>\n",
       "      <td>19</td>\n",
       "      <td>2095</td>\n",
       "      <td>33</td>\n",
       "      <td>250</td>\n",
       "      <td>4</td>\n",
       "      <td>15</td>\n",
       "      <td>0</td>\n",
       "      <td>0</td>\n",
       "      <td>yes</td>\n",
       "      <td>94</td>\n",
       "      <td>1</td>\n",
       "    </tr>\n",
       "    <tr>\n",
       "      <th>19</th>\n",
       "      <td>20</td>\n",
       "      <td>4395</td>\n",
       "      <td>66</td>\n",
       "      <td>452</td>\n",
       "      <td>8</td>\n",
       "      <td>14</td>\n",
       "      <td>0</td>\n",
       "      <td>0</td>\n",
       "      <td>yes</td>\n",
       "      <td>94</td>\n",
       "      <td>1</td>\n",
       "    </tr>\n",
       "    <tr>\n",
       "      <th>20</th>\n",
       "      <td>21</td>\n",
       "      <td>1695</td>\n",
       "      <td>33</td>\n",
       "      <td>130</td>\n",
       "      <td>4</td>\n",
       "      <td>14</td>\n",
       "      <td>0</td>\n",
       "      <td>0</td>\n",
       "      <td>yes</td>\n",
       "      <td>94</td>\n",
       "      <td>1</td>\n",
       "    </tr>\n",
       "    <tr>\n",
       "      <th>21</th>\n",
       "      <td>22</td>\n",
       "      <td>2795</td>\n",
       "      <td>66</td>\n",
       "      <td>130</td>\n",
       "      <td>4</td>\n",
       "      <td>14</td>\n",
       "      <td>0</td>\n",
       "      <td>0</td>\n",
       "      <td>yes</td>\n",
       "      <td>94</td>\n",
       "      <td>1</td>\n",
       "    </tr>\n",
       "    <tr>\n",
       "      <th>22</th>\n",
       "      <td>23</td>\n",
       "      <td>2895</td>\n",
       "      <td>25</td>\n",
       "      <td>340</td>\n",
       "      <td>16</td>\n",
       "      <td>14</td>\n",
       "      <td>0</td>\n",
       "      <td>0</td>\n",
       "      <td>yes</td>\n",
       "      <td>94</td>\n",
       "      <td>1</td>\n",
       "    </tr>\n",
       "    <tr>\n",
       "      <th>23</th>\n",
       "      <td>24</td>\n",
       "      <td>2875</td>\n",
       "      <td>50</td>\n",
       "      <td>210</td>\n",
       "      <td>4</td>\n",
       "      <td>17</td>\n",
       "      <td>0</td>\n",
       "      <td>0</td>\n",
       "      <td>yes</td>\n",
       "      <td>94</td>\n",
       "      <td>1</td>\n",
       "    </tr>\n",
       "    <tr>\n",
       "      <th>24</th>\n",
       "      <td>25</td>\n",
       "      <td>4195</td>\n",
       "      <td>50</td>\n",
       "      <td>452</td>\n",
       "      <td>8</td>\n",
       "      <td>14</td>\n",
       "      <td>0</td>\n",
       "      <td>0</td>\n",
       "      <td>yes</td>\n",
       "      <td>94</td>\n",
       "      <td>1</td>\n",
       "    </tr>\n",
       "    <tr>\n",
       "      <th>25</th>\n",
       "      <td>26</td>\n",
       "      <td>1290</td>\n",
       "      <td>33</td>\n",
       "      <td>80</td>\n",
       "      <td>2</td>\n",
       "      <td>14</td>\n",
       "      <td>0</td>\n",
       "      <td>0</td>\n",
       "      <td>yes</td>\n",
       "      <td>94</td>\n",
       "      <td>1</td>\n",
       "    </tr>\n",
       "    <tr>\n",
       "      <th>26</th>\n",
       "      <td>27</td>\n",
       "      <td>1975</td>\n",
       "      <td>33</td>\n",
       "      <td>130</td>\n",
       "      <td>4</td>\n",
       "      <td>14</td>\n",
       "      <td>0</td>\n",
       "      <td>0</td>\n",
       "      <td>yes</td>\n",
       "      <td>94</td>\n",
       "      <td>1</td>\n",
       "    </tr>\n",
       "    <tr>\n",
       "      <th>27</th>\n",
       "      <td>28</td>\n",
       "      <td>3995</td>\n",
       "      <td>33</td>\n",
       "      <td>452</td>\n",
       "      <td>8</td>\n",
       "      <td>14</td>\n",
       "      <td>0</td>\n",
       "      <td>0</td>\n",
       "      <td>yes</td>\n",
       "      <td>94</td>\n",
       "      <td>1</td>\n",
       "    </tr>\n",
       "    <tr>\n",
       "      <th>28</th>\n",
       "      <td>29</td>\n",
       "      <td>3095</td>\n",
       "      <td>33</td>\n",
       "      <td>340</td>\n",
       "      <td>16</td>\n",
       "      <td>14</td>\n",
       "      <td>0</td>\n",
       "      <td>0</td>\n",
       "      <td>yes</td>\n",
       "      <td>94</td>\n",
       "      <td>1</td>\n",
       "    </tr>\n",
       "    <tr>\n",
       "      <th>29</th>\n",
       "      <td>30</td>\n",
       "      <td>3244</td>\n",
       "      <td>66</td>\n",
       "      <td>245</td>\n",
       "      <td>8</td>\n",
       "      <td>14</td>\n",
       "      <td>0</td>\n",
       "      <td>0</td>\n",
       "      <td>yes</td>\n",
       "      <td>94</td>\n",
       "      <td>1</td>\n",
       "    </tr>\n",
       "    <tr>\n",
       "      <th>...</th>\n",
       "      <td>...</td>\n",
       "      <td>...</td>\n",
       "      <td>...</td>\n",
       "      <td>...</td>\n",
       "      <td>...</td>\n",
       "      <td>...</td>\n",
       "      <td>...</td>\n",
       "      <td>...</td>\n",
       "      <td>...</td>\n",
       "      <td>...</td>\n",
       "      <td>...</td>\n",
       "    </tr>\n",
       "    <tr>\n",
       "      <th>6229</th>\n",
       "      <td>6230</td>\n",
       "      <td>2344</td>\n",
       "      <td>66</td>\n",
       "      <td>850</td>\n",
       "      <td>16</td>\n",
       "      <td>15</td>\n",
       "      <td>1</td>\n",
       "      <td>0</td>\n",
       "      <td>yes</td>\n",
       "      <td>39</td>\n",
       "      <td>35</td>\n",
       "    </tr>\n",
       "    <tr>\n",
       "      <th>6230</th>\n",
       "      <td>6231</td>\n",
       "      <td>2890</td>\n",
       "      <td>100</td>\n",
       "      <td>1200</td>\n",
       "      <td>24</td>\n",
       "      <td>17</td>\n",
       "      <td>1</td>\n",
       "      <td>0</td>\n",
       "      <td>yes</td>\n",
       "      <td>39</td>\n",
       "      <td>35</td>\n",
       "    </tr>\n",
       "    <tr>\n",
       "      <th>6231</th>\n",
       "      <td>6232</td>\n",
       "      <td>2390</td>\n",
       "      <td>66</td>\n",
       "      <td>850</td>\n",
       "      <td>16</td>\n",
       "      <td>17</td>\n",
       "      <td>1</td>\n",
       "      <td>0</td>\n",
       "      <td>yes</td>\n",
       "      <td>39</td>\n",
       "      <td>35</td>\n",
       "    </tr>\n",
       "    <tr>\n",
       "      <th>6232</th>\n",
       "      <td>6233</td>\n",
       "      <td>1495</td>\n",
       "      <td>66</td>\n",
       "      <td>528</td>\n",
       "      <td>8</td>\n",
       "      <td>14</td>\n",
       "      <td>0</td>\n",
       "      <td>0</td>\n",
       "      <td>yes</td>\n",
       "      <td>39</td>\n",
       "      <td>35</td>\n",
       "    </tr>\n",
       "    <tr>\n",
       "      <th>6233</th>\n",
       "      <td>6234</td>\n",
       "      <td>1844</td>\n",
       "      <td>100</td>\n",
       "      <td>528</td>\n",
       "      <td>8</td>\n",
       "      <td>14</td>\n",
       "      <td>0</td>\n",
       "      <td>0</td>\n",
       "      <td>yes</td>\n",
       "      <td>39</td>\n",
       "      <td>35</td>\n",
       "    </tr>\n",
       "    <tr>\n",
       "      <th>6234</th>\n",
       "      <td>6235</td>\n",
       "      <td>1699</td>\n",
       "      <td>66</td>\n",
       "      <td>630</td>\n",
       "      <td>8</td>\n",
       "      <td>15</td>\n",
       "      <td>0</td>\n",
       "      <td>0</td>\n",
       "      <td>no</td>\n",
       "      <td>39</td>\n",
       "      <td>35</td>\n",
       "    </tr>\n",
       "    <tr>\n",
       "      <th>6235</th>\n",
       "      <td>6236</td>\n",
       "      <td>3290</td>\n",
       "      <td>75</td>\n",
       "      <td>1600</td>\n",
       "      <td>32</td>\n",
       "      <td>17</td>\n",
       "      <td>1</td>\n",
       "      <td>0</td>\n",
       "      <td>yes</td>\n",
       "      <td>39</td>\n",
       "      <td>35</td>\n",
       "    </tr>\n",
       "    <tr>\n",
       "      <th>6236</th>\n",
       "      <td>6237</td>\n",
       "      <td>2790</td>\n",
       "      <td>66</td>\n",
       "      <td>1200</td>\n",
       "      <td>24</td>\n",
       "      <td>17</td>\n",
       "      <td>1</td>\n",
       "      <td>0</td>\n",
       "      <td>yes</td>\n",
       "      <td>39</td>\n",
       "      <td>35</td>\n",
       "    </tr>\n",
       "    <tr>\n",
       "      <th>6237</th>\n",
       "      <td>6238</td>\n",
       "      <td>2845</td>\n",
       "      <td>100</td>\n",
       "      <td>1600</td>\n",
       "      <td>24</td>\n",
       "      <td>15</td>\n",
       "      <td>1</td>\n",
       "      <td>0</td>\n",
       "      <td>yes</td>\n",
       "      <td>39</td>\n",
       "      <td>35</td>\n",
       "    </tr>\n",
       "    <tr>\n",
       "      <th>6238</th>\n",
       "      <td>6239</td>\n",
       "      <td>1744</td>\n",
       "      <td>66</td>\n",
       "      <td>528</td>\n",
       "      <td>8</td>\n",
       "      <td>14</td>\n",
       "      <td>0</td>\n",
       "      <td>0</td>\n",
       "      <td>yes</td>\n",
       "      <td>39</td>\n",
       "      <td>35</td>\n",
       "    </tr>\n",
       "    <tr>\n",
       "      <th>6239</th>\n",
       "      <td>6240</td>\n",
       "      <td>3095</td>\n",
       "      <td>100</td>\n",
       "      <td>1600</td>\n",
       "      <td>32</td>\n",
       "      <td>15</td>\n",
       "      <td>1</td>\n",
       "      <td>0</td>\n",
       "      <td>yes</td>\n",
       "      <td>39</td>\n",
       "      <td>35</td>\n",
       "    </tr>\n",
       "    <tr>\n",
       "      <th>6240</th>\n",
       "      <td>6241</td>\n",
       "      <td>1595</td>\n",
       "      <td>100</td>\n",
       "      <td>528</td>\n",
       "      <td>8</td>\n",
       "      <td>14</td>\n",
       "      <td>0</td>\n",
       "      <td>0</td>\n",
       "      <td>yes</td>\n",
       "      <td>39</td>\n",
       "      <td>35</td>\n",
       "    </tr>\n",
       "    <tr>\n",
       "      <th>6241</th>\n",
       "      <td>6242</td>\n",
       "      <td>2254</td>\n",
       "      <td>100</td>\n",
       "      <td>850</td>\n",
       "      <td>16</td>\n",
       "      <td>15</td>\n",
       "      <td>1</td>\n",
       "      <td>0</td>\n",
       "      <td>yes</td>\n",
       "      <td>39</td>\n",
       "      <td>35</td>\n",
       "    </tr>\n",
       "    <tr>\n",
       "      <th>6242</th>\n",
       "      <td>6243</td>\n",
       "      <td>2723</td>\n",
       "      <td>100</td>\n",
       "      <td>1200</td>\n",
       "      <td>24</td>\n",
       "      <td>15</td>\n",
       "      <td>1</td>\n",
       "      <td>1</td>\n",
       "      <td>yes</td>\n",
       "      <td>39</td>\n",
       "      <td>35</td>\n",
       "    </tr>\n",
       "    <tr>\n",
       "      <th>6243</th>\n",
       "      <td>6244</td>\n",
       "      <td>2745</td>\n",
       "      <td>66</td>\n",
       "      <td>1600</td>\n",
       "      <td>24</td>\n",
       "      <td>15</td>\n",
       "      <td>1</td>\n",
       "      <td>0</td>\n",
       "      <td>yes</td>\n",
       "      <td>39</td>\n",
       "      <td>35</td>\n",
       "    </tr>\n",
       "    <tr>\n",
       "      <th>6244</th>\n",
       "      <td>6245</td>\n",
       "      <td>3054</td>\n",
       "      <td>75</td>\n",
       "      <td>1600</td>\n",
       "      <td>32</td>\n",
       "      <td>15</td>\n",
       "      <td>1</td>\n",
       "      <td>0</td>\n",
       "      <td>yes</td>\n",
       "      <td>39</td>\n",
       "      <td>35</td>\n",
       "    </tr>\n",
       "    <tr>\n",
       "      <th>6245</th>\n",
       "      <td>6246</td>\n",
       "      <td>2744</td>\n",
       "      <td>66</td>\n",
       "      <td>1200</td>\n",
       "      <td>24</td>\n",
       "      <td>15</td>\n",
       "      <td>1</td>\n",
       "      <td>0</td>\n",
       "      <td>yes</td>\n",
       "      <td>39</td>\n",
       "      <td>35</td>\n",
       "    </tr>\n",
       "    <tr>\n",
       "      <th>6246</th>\n",
       "      <td>6247</td>\n",
       "      <td>1554</td>\n",
       "      <td>66</td>\n",
       "      <td>528</td>\n",
       "      <td>8</td>\n",
       "      <td>14</td>\n",
       "      <td>0</td>\n",
       "      <td>0</td>\n",
       "      <td>yes</td>\n",
       "      <td>39</td>\n",
       "      <td>35</td>\n",
       "    </tr>\n",
       "    <tr>\n",
       "      <th>6247</th>\n",
       "      <td>6248</td>\n",
       "      <td>1654</td>\n",
       "      <td>100</td>\n",
       "      <td>528</td>\n",
       "      <td>8</td>\n",
       "      <td>14</td>\n",
       "      <td>0</td>\n",
       "      <td>0</td>\n",
       "      <td>yes</td>\n",
       "      <td>39</td>\n",
       "      <td>35</td>\n",
       "    </tr>\n",
       "    <tr>\n",
       "      <th>6248</th>\n",
       "      <td>6249</td>\n",
       "      <td>2623</td>\n",
       "      <td>66</td>\n",
       "      <td>1200</td>\n",
       "      <td>24</td>\n",
       "      <td>15</td>\n",
       "      <td>1</td>\n",
       "      <td>1</td>\n",
       "      <td>yes</td>\n",
       "      <td>39</td>\n",
       "      <td>35</td>\n",
       "    </tr>\n",
       "    <tr>\n",
       "      <th>6249</th>\n",
       "      <td>6250</td>\n",
       "      <td>2095</td>\n",
       "      <td>66</td>\n",
       "      <td>850</td>\n",
       "      <td>16</td>\n",
       "      <td>15</td>\n",
       "      <td>1</td>\n",
       "      <td>0</td>\n",
       "      <td>yes</td>\n",
       "      <td>39</td>\n",
       "      <td>35</td>\n",
       "    </tr>\n",
       "    <tr>\n",
       "      <th>6250</th>\n",
       "      <td>6251</td>\n",
       "      <td>2495</td>\n",
       "      <td>66</td>\n",
       "      <td>1200</td>\n",
       "      <td>24</td>\n",
       "      <td>15</td>\n",
       "      <td>1</td>\n",
       "      <td>0</td>\n",
       "      <td>yes</td>\n",
       "      <td>39</td>\n",
       "      <td>35</td>\n",
       "    </tr>\n",
       "    <tr>\n",
       "      <th>6251</th>\n",
       "      <td>6252</td>\n",
       "      <td>2995</td>\n",
       "      <td>66</td>\n",
       "      <td>1600</td>\n",
       "      <td>32</td>\n",
       "      <td>15</td>\n",
       "      <td>1</td>\n",
       "      <td>0</td>\n",
       "      <td>yes</td>\n",
       "      <td>39</td>\n",
       "      <td>35</td>\n",
       "    </tr>\n",
       "    <tr>\n",
       "      <th>6252</th>\n",
       "      <td>6253</td>\n",
       "      <td>1690</td>\n",
       "      <td>66</td>\n",
       "      <td>1200</td>\n",
       "      <td>8</td>\n",
       "      <td>14</td>\n",
       "      <td>0</td>\n",
       "      <td>0</td>\n",
       "      <td>yes</td>\n",
       "      <td>39</td>\n",
       "      <td>35</td>\n",
       "    </tr>\n",
       "    <tr>\n",
       "      <th>6253</th>\n",
       "      <td>6254</td>\n",
       "      <td>2154</td>\n",
       "      <td>66</td>\n",
       "      <td>850</td>\n",
       "      <td>16</td>\n",
       "      <td>15</td>\n",
       "      <td>1</td>\n",
       "      <td>0</td>\n",
       "      <td>yes</td>\n",
       "      <td>39</td>\n",
       "      <td>35</td>\n",
       "    </tr>\n",
       "    <tr>\n",
       "      <th>6254</th>\n",
       "      <td>6255</td>\n",
       "      <td>1690</td>\n",
       "      <td>100</td>\n",
       "      <td>528</td>\n",
       "      <td>8</td>\n",
       "      <td>15</td>\n",
       "      <td>0</td>\n",
       "      <td>0</td>\n",
       "      <td>yes</td>\n",
       "      <td>39</td>\n",
       "      <td>35</td>\n",
       "    </tr>\n",
       "    <tr>\n",
       "      <th>6255</th>\n",
       "      <td>6256</td>\n",
       "      <td>2223</td>\n",
       "      <td>66</td>\n",
       "      <td>850</td>\n",
       "      <td>16</td>\n",
       "      <td>15</td>\n",
       "      <td>1</td>\n",
       "      <td>1</td>\n",
       "      <td>yes</td>\n",
       "      <td>39</td>\n",
       "      <td>35</td>\n",
       "    </tr>\n",
       "    <tr>\n",
       "      <th>6256</th>\n",
       "      <td>6257</td>\n",
       "      <td>2654</td>\n",
       "      <td>100</td>\n",
       "      <td>1200</td>\n",
       "      <td>24</td>\n",
       "      <td>15</td>\n",
       "      <td>1</td>\n",
       "      <td>0</td>\n",
       "      <td>yes</td>\n",
       "      <td>39</td>\n",
       "      <td>35</td>\n",
       "    </tr>\n",
       "    <tr>\n",
       "      <th>6257</th>\n",
       "      <td>6258</td>\n",
       "      <td>2195</td>\n",
       "      <td>100</td>\n",
       "      <td>850</td>\n",
       "      <td>16</td>\n",
       "      <td>15</td>\n",
       "      <td>1</td>\n",
       "      <td>0</td>\n",
       "      <td>yes</td>\n",
       "      <td>39</td>\n",
       "      <td>35</td>\n",
       "    </tr>\n",
       "    <tr>\n",
       "      <th>6258</th>\n",
       "      <td>6259</td>\n",
       "      <td>2490</td>\n",
       "      <td>100</td>\n",
       "      <td>850</td>\n",
       "      <td>16</td>\n",
       "      <td>17</td>\n",
       "      <td>1</td>\n",
       "      <td>0</td>\n",
       "      <td>yes</td>\n",
       "      <td>39</td>\n",
       "      <td>35</td>\n",
       "    </tr>\n",
       "  </tbody>\n",
       "</table>\n",
       "<p>6259 rows × 11 columns</p>\n",
       "</div>"
      ],
      "text/plain": [
       "      S.No.  price  speed    hd  ram  screen  cd  multi premium  ads  trend\n",
       "0         1   1499     25    80    4      14   0      0     yes   94      1\n",
       "1         2   1795     33    85    2      14   0      0     yes   94      1\n",
       "2         3   1595     25   170    4      15   0      0     yes   94      1\n",
       "3         4   1849     25   170    8      14   0      0      no   94      1\n",
       "4         5   3295     33   340   16      14   0      0     yes   94      1\n",
       "5         6   3695     66   340   16      14   0      0     yes   94      1\n",
       "6         7   1720     25   170    4      14   1      0     yes   94      1\n",
       "7         8   1995     50    85    2      14   0      0     yes   94      1\n",
       "8         9   2225     50   210    8      14   0      0     yes   94      1\n",
       "9        10   2575     50   210    4      15   0      0     yes   94      1\n",
       "10       11   2195     33   170    8      15   0      0     yes   94      1\n",
       "11       12   2605     66   210    8      14   0      0     yes   94      1\n",
       "12       13   2045     50   130    4      14   0      0     yes   94      1\n",
       "13       14   2295     25   245    8      14   0      0     yes   94      1\n",
       "14       15   2699     50   212    8      14   0      0     yes   94      1\n",
       "15       16   2225     50   130    4      14   0      0     yes   94      1\n",
       "16       17   1595     33    85    2      14   0      0     yes   94      1\n",
       "17       18   2325     33   210    4      15   0      0     yes   94      1\n",
       "18       19   2095     33   250    4      15   0      0     yes   94      1\n",
       "19       20   4395     66   452    8      14   0      0     yes   94      1\n",
       "20       21   1695     33   130    4      14   0      0     yes   94      1\n",
       "21       22   2795     66   130    4      14   0      0     yes   94      1\n",
       "22       23   2895     25   340   16      14   0      0     yes   94      1\n",
       "23       24   2875     50   210    4      17   0      0     yes   94      1\n",
       "24       25   4195     50   452    8      14   0      0     yes   94      1\n",
       "25       26   1290     33    80    2      14   0      0     yes   94      1\n",
       "26       27   1975     33   130    4      14   0      0     yes   94      1\n",
       "27       28   3995     33   452    8      14   0      0     yes   94      1\n",
       "28       29   3095     33   340   16      14   0      0     yes   94      1\n",
       "29       30   3244     66   245    8      14   0      0     yes   94      1\n",
       "...     ...    ...    ...   ...  ...     ...  ..    ...     ...  ...    ...\n",
       "6229   6230   2344     66   850   16      15   1      0     yes   39     35\n",
       "6230   6231   2890    100  1200   24      17   1      0     yes   39     35\n",
       "6231   6232   2390     66   850   16      17   1      0     yes   39     35\n",
       "6232   6233   1495     66   528    8      14   0      0     yes   39     35\n",
       "6233   6234   1844    100   528    8      14   0      0     yes   39     35\n",
       "6234   6235   1699     66   630    8      15   0      0      no   39     35\n",
       "6235   6236   3290     75  1600   32      17   1      0     yes   39     35\n",
       "6236   6237   2790     66  1200   24      17   1      0     yes   39     35\n",
       "6237   6238   2845    100  1600   24      15   1      0     yes   39     35\n",
       "6238   6239   1744     66   528    8      14   0      0     yes   39     35\n",
       "6239   6240   3095    100  1600   32      15   1      0     yes   39     35\n",
       "6240   6241   1595    100   528    8      14   0      0     yes   39     35\n",
       "6241   6242   2254    100   850   16      15   1      0     yes   39     35\n",
       "6242   6243   2723    100  1200   24      15   1      1     yes   39     35\n",
       "6243   6244   2745     66  1600   24      15   1      0     yes   39     35\n",
       "6244   6245   3054     75  1600   32      15   1      0     yes   39     35\n",
       "6245   6246   2744     66  1200   24      15   1      0     yes   39     35\n",
       "6246   6247   1554     66   528    8      14   0      0     yes   39     35\n",
       "6247   6248   1654    100   528    8      14   0      0     yes   39     35\n",
       "6248   6249   2623     66  1200   24      15   1      1     yes   39     35\n",
       "6249   6250   2095     66   850   16      15   1      0     yes   39     35\n",
       "6250   6251   2495     66  1200   24      15   1      0     yes   39     35\n",
       "6251   6252   2995     66  1600   32      15   1      0     yes   39     35\n",
       "6252   6253   1690     66  1200    8      14   0      0     yes   39     35\n",
       "6253   6254   2154     66   850   16      15   1      0     yes   39     35\n",
       "6254   6255   1690    100   528    8      15   0      0     yes   39     35\n",
       "6255   6256   2223     66   850   16      15   1      1     yes   39     35\n",
       "6256   6257   2654    100  1200   24      15   1      0     yes   39     35\n",
       "6257   6258   2195    100   850   16      15   1      0     yes   39     35\n",
       "6258   6259   2490    100   850   16      17   1      0     yes   39     35\n",
       "\n",
       "[6259 rows x 11 columns]"
      ]
     },
     "execution_count": 8,
     "metadata": {},
     "output_type": "execute_result"
    }
   ],
   "source": [
    "multi1={\"yes\":1,\"no\":0}\n",
    "df.multi=[multi1[item] for item in df.multi]\n",
    "df"
   ]
  },
  {
   "cell_type": "code",
   "execution_count": 9,
   "metadata": {},
   "outputs": [
    {
     "name": "stdout",
     "output_type": "stream",
     "text": [
      "<class 'pandas.core.frame.DataFrame'>\n",
      "RangeIndex: 6259 entries, 0 to 6258\n",
      "Data columns (total 11 columns):\n",
      "S.No.      6259 non-null int64\n",
      "price      6259 non-null int64\n",
      "speed      6259 non-null int64\n",
      "hd         6259 non-null int64\n",
      "ram        6259 non-null int64\n",
      "screen     6259 non-null int64\n",
      "cd         6259 non-null int64\n",
      "multi      6259 non-null int64\n",
      "premium    6259 non-null object\n",
      "ads        6259 non-null int64\n",
      "trend      6259 non-null int64\n",
      "dtypes: int64(10), object(1)\n",
      "memory usage: 538.0+ KB\n"
     ]
    }
   ],
   "source": [
    "df.info()"
   ]
  },
  {
   "cell_type": "code",
   "execution_count": 10,
   "metadata": {},
   "outputs": [
    {
     "name": "stdout",
     "output_type": "stream",
     "text": [
      "<class 'pandas.core.frame.DataFrame'>\n",
      "RangeIndex: 6259 entries, 0 to 6258\n",
      "Data columns (total 11 columns):\n",
      "S.No.      6259 non-null int64\n",
      "price      6259 non-null int64\n",
      "speed      6259 non-null int64\n",
      "hd         6259 non-null int64\n",
      "ram        6259 non-null int64\n",
      "screen     6259 non-null int64\n",
      "cd         6259 non-null int64\n",
      "multi      6259 non-null int64\n",
      "premium    6259 non-null int64\n",
      "ads        6259 non-null int64\n",
      "trend      6259 non-null int64\n",
      "dtypes: int64(11)\n",
      "memory usage: 538.0 KB\n"
     ]
    }
   ],
   "source": [
    "premium1={\"yes\":1,\"no\":0}\n",
    "df.premium=[premium1[item] for item in df.premium]\n",
    "df.head()\n",
    "df.info()"
   ]
  },
  {
   "cell_type": "code",
   "execution_count": 11,
   "metadata": {},
   "outputs": [
    {
     "data": {
      "text/html": [
       "<div>\n",
       "<style scoped>\n",
       "    .dataframe tbody tr th:only-of-type {\n",
       "        vertical-align: middle;\n",
       "    }\n",
       "\n",
       "    .dataframe tbody tr th {\n",
       "        vertical-align: top;\n",
       "    }\n",
       "\n",
       "    .dataframe thead th {\n",
       "        text-align: right;\n",
       "    }\n",
       "</style>\n",
       "<table border=\"1\" class=\"dataframe\">\n",
       "  <thead>\n",
       "    <tr style=\"text-align: right;\">\n",
       "      <th></th>\n",
       "      <th>S.No.</th>\n",
       "      <th>price</th>\n",
       "      <th>speed</th>\n",
       "      <th>hd</th>\n",
       "      <th>ram</th>\n",
       "      <th>screen</th>\n",
       "      <th>cd</th>\n",
       "      <th>multi</th>\n",
       "      <th>premium</th>\n",
       "      <th>ads</th>\n",
       "      <th>trend</th>\n",
       "    </tr>\n",
       "  </thead>\n",
       "  <tbody>\n",
       "    <tr>\n",
       "      <th>count</th>\n",
       "      <td>6259.000000</td>\n",
       "      <td>6259.000000</td>\n",
       "      <td>6259.000000</td>\n",
       "      <td>6259.000000</td>\n",
       "      <td>6259.000000</td>\n",
       "      <td>6259.000000</td>\n",
       "      <td>6259.000000</td>\n",
       "      <td>6259.000000</td>\n",
       "      <td>6259.000000</td>\n",
       "      <td>6259.000000</td>\n",
       "      <td>6259.000000</td>\n",
       "    </tr>\n",
       "    <tr>\n",
       "      <th>mean</th>\n",
       "      <td>3130.000000</td>\n",
       "      <td>2219.576610</td>\n",
       "      <td>52.011024</td>\n",
       "      <td>416.601694</td>\n",
       "      <td>8.286947</td>\n",
       "      <td>14.608723</td>\n",
       "      <td>0.464611</td>\n",
       "      <td>0.139479</td>\n",
       "      <td>0.902221</td>\n",
       "      <td>221.301007</td>\n",
       "      <td>15.926985</td>\n",
       "    </tr>\n",
       "    <tr>\n",
       "      <th>std</th>\n",
       "      <td>1806.961999</td>\n",
       "      <td>580.803956</td>\n",
       "      <td>21.157735</td>\n",
       "      <td>258.548445</td>\n",
       "      <td>5.631099</td>\n",
       "      <td>0.905115</td>\n",
       "      <td>0.498786</td>\n",
       "      <td>0.346474</td>\n",
       "      <td>0.297040</td>\n",
       "      <td>74.835284</td>\n",
       "      <td>7.873984</td>\n",
       "    </tr>\n",
       "    <tr>\n",
       "      <th>min</th>\n",
       "      <td>1.000000</td>\n",
       "      <td>949.000000</td>\n",
       "      <td>25.000000</td>\n",
       "      <td>80.000000</td>\n",
       "      <td>2.000000</td>\n",
       "      <td>14.000000</td>\n",
       "      <td>0.000000</td>\n",
       "      <td>0.000000</td>\n",
       "      <td>0.000000</td>\n",
       "      <td>39.000000</td>\n",
       "      <td>1.000000</td>\n",
       "    </tr>\n",
       "    <tr>\n",
       "      <th>25%</th>\n",
       "      <td>1565.500000</td>\n",
       "      <td>1794.000000</td>\n",
       "      <td>33.000000</td>\n",
       "      <td>214.000000</td>\n",
       "      <td>4.000000</td>\n",
       "      <td>14.000000</td>\n",
       "      <td>0.000000</td>\n",
       "      <td>0.000000</td>\n",
       "      <td>1.000000</td>\n",
       "      <td>162.500000</td>\n",
       "      <td>10.000000</td>\n",
       "    </tr>\n",
       "    <tr>\n",
       "      <th>50%</th>\n",
       "      <td>3130.000000</td>\n",
       "      <td>2144.000000</td>\n",
       "      <td>50.000000</td>\n",
       "      <td>340.000000</td>\n",
       "      <td>8.000000</td>\n",
       "      <td>14.000000</td>\n",
       "      <td>0.000000</td>\n",
       "      <td>0.000000</td>\n",
       "      <td>1.000000</td>\n",
       "      <td>246.000000</td>\n",
       "      <td>16.000000</td>\n",
       "    </tr>\n",
       "    <tr>\n",
       "      <th>75%</th>\n",
       "      <td>4694.500000</td>\n",
       "      <td>2595.000000</td>\n",
       "      <td>66.000000</td>\n",
       "      <td>528.000000</td>\n",
       "      <td>8.000000</td>\n",
       "      <td>15.000000</td>\n",
       "      <td>1.000000</td>\n",
       "      <td>0.000000</td>\n",
       "      <td>1.000000</td>\n",
       "      <td>275.000000</td>\n",
       "      <td>21.500000</td>\n",
       "    </tr>\n",
       "    <tr>\n",
       "      <th>max</th>\n",
       "      <td>6259.000000</td>\n",
       "      <td>5399.000000</td>\n",
       "      <td>100.000000</td>\n",
       "      <td>2100.000000</td>\n",
       "      <td>32.000000</td>\n",
       "      <td>17.000000</td>\n",
       "      <td>1.000000</td>\n",
       "      <td>1.000000</td>\n",
       "      <td>1.000000</td>\n",
       "      <td>339.000000</td>\n",
       "      <td>35.000000</td>\n",
       "    </tr>\n",
       "  </tbody>\n",
       "</table>\n",
       "</div>"
      ],
      "text/plain": [
       "             S.No.        price        speed           hd          ram  \\\n",
       "count  6259.000000  6259.000000  6259.000000  6259.000000  6259.000000   \n",
       "mean   3130.000000  2219.576610    52.011024   416.601694     8.286947   \n",
       "std    1806.961999   580.803956    21.157735   258.548445     5.631099   \n",
       "min       1.000000   949.000000    25.000000    80.000000     2.000000   \n",
       "25%    1565.500000  1794.000000    33.000000   214.000000     4.000000   \n",
       "50%    3130.000000  2144.000000    50.000000   340.000000     8.000000   \n",
       "75%    4694.500000  2595.000000    66.000000   528.000000     8.000000   \n",
       "max    6259.000000  5399.000000   100.000000  2100.000000    32.000000   \n",
       "\n",
       "            screen           cd        multi      premium          ads  \\\n",
       "count  6259.000000  6259.000000  6259.000000  6259.000000  6259.000000   \n",
       "mean     14.608723     0.464611     0.139479     0.902221   221.301007   \n",
       "std       0.905115     0.498786     0.346474     0.297040    74.835284   \n",
       "min      14.000000     0.000000     0.000000     0.000000    39.000000   \n",
       "25%      14.000000     0.000000     0.000000     1.000000   162.500000   \n",
       "50%      14.000000     0.000000     0.000000     1.000000   246.000000   \n",
       "75%      15.000000     1.000000     0.000000     1.000000   275.000000   \n",
       "max      17.000000     1.000000     1.000000     1.000000   339.000000   \n",
       "\n",
       "             trend  \n",
       "count  6259.000000  \n",
       "mean     15.926985  \n",
       "std       7.873984  \n",
       "min       1.000000  \n",
       "25%      10.000000  \n",
       "50%      16.000000  \n",
       "75%      21.500000  \n",
       "max      35.000000  "
      ]
     },
     "execution_count": 11,
     "metadata": {},
     "output_type": "execute_result"
    }
   ],
   "source": [
    "df.describe()"
   ]
  },
  {
   "cell_type": "code",
   "execution_count": 12,
   "metadata": {},
   "outputs": [
    {
     "name": "stdout",
     "output_type": "stream",
     "text": [
      "<class 'pandas.core.frame.DataFrame'>\n",
      "RangeIndex: 6259 entries, 0 to 6258\n",
      "Data columns (total 11 columns):\n",
      "S.No.      6259 non-null int64\n",
      "price      6259 non-null int64\n",
      "speed      6259 non-null int64\n",
      "hd         6259 non-null int64\n",
      "ram        6259 non-null int64\n",
      "screen     6259 non-null int64\n",
      "cd         6259 non-null int64\n",
      "multi      6259 non-null int64\n",
      "premium    6259 non-null int64\n",
      "ads        6259 non-null int64\n",
      "trend      6259 non-null int64\n",
      "dtypes: int64(11)\n",
      "memory usage: 538.0 KB\n"
     ]
    }
   ],
   "source": [
    "df.info()"
   ]
  },
  {
   "cell_type": "markdown",
   "metadata": {},
   "source": [
    "One Hot Encoding for the column screen as it has 3 categorical values"
   ]
  },
  {
   "cell_type": "code",
   "execution_count": 13,
   "metadata": {},
   "outputs": [],
   "source": [
    "df=pd.get_dummies(df, columns=[\"screen\"])"
   ]
  },
  {
   "cell_type": "markdown",
   "metadata": {},
   "source": [
    "Getting the information about the modified dataset"
   ]
  },
  {
   "cell_type": "code",
   "execution_count": 14,
   "metadata": {},
   "outputs": [
    {
     "name": "stdout",
     "output_type": "stream",
     "text": [
      "<class 'pandas.core.frame.DataFrame'>\n",
      "RangeIndex: 6259 entries, 0 to 6258\n",
      "Data columns (total 13 columns):\n",
      "S.No.        6259 non-null int64\n",
      "price        6259 non-null int64\n",
      "speed        6259 non-null int64\n",
      "hd           6259 non-null int64\n",
      "ram          6259 non-null int64\n",
      "cd           6259 non-null int64\n",
      "multi        6259 non-null int64\n",
      "premium      6259 non-null int64\n",
      "ads          6259 non-null int64\n",
      "trend        6259 non-null int64\n",
      "screen_14    6259 non-null uint8\n",
      "screen_15    6259 non-null uint8\n",
      "screen_17    6259 non-null uint8\n",
      "dtypes: int64(10), uint8(3)\n",
      "memory usage: 507.4 KB\n"
     ]
    }
   ],
   "source": [
    "df.head()\n",
    "df.info()"
   ]
  },
  {
   "cell_type": "markdown",
   "metadata": {},
   "source": [
    "Coverting the value of hard disk into binary as hard disk greater than 170 as 1 and less than  or equal to 170 as 0 "
   ]
  },
  {
   "cell_type": "code",
   "execution_count": 15,
   "metadata": {},
   "outputs": [
    {
     "data": {
      "text/html": [
       "<div>\n",
       "<style scoped>\n",
       "    .dataframe tbody tr th:only-of-type {\n",
       "        vertical-align: middle;\n",
       "    }\n",
       "\n",
       "    .dataframe tbody tr th {\n",
       "        vertical-align: top;\n",
       "    }\n",
       "\n",
       "    .dataframe thead th {\n",
       "        text-align: right;\n",
       "    }\n",
       "</style>\n",
       "<table border=\"1\" class=\"dataframe\">\n",
       "  <thead>\n",
       "    <tr style=\"text-align: right;\">\n",
       "      <th></th>\n",
       "      <th>S.No.</th>\n",
       "      <th>price</th>\n",
       "      <th>speed</th>\n",
       "      <th>hd</th>\n",
       "      <th>ram</th>\n",
       "      <th>cd</th>\n",
       "      <th>multi</th>\n",
       "      <th>premium</th>\n",
       "      <th>ads</th>\n",
       "      <th>trend</th>\n",
       "      <th>screen_14</th>\n",
       "      <th>screen_15</th>\n",
       "      <th>screen_17</th>\n",
       "      <th>hd_binary</th>\n",
       "    </tr>\n",
       "  </thead>\n",
       "  <tbody>\n",
       "    <tr>\n",
       "      <th>0</th>\n",
       "      <td>1</td>\n",
       "      <td>1499</td>\n",
       "      <td>25</td>\n",
       "      <td>80</td>\n",
       "      <td>4</td>\n",
       "      <td>0</td>\n",
       "      <td>0</td>\n",
       "      <td>1</td>\n",
       "      <td>94</td>\n",
       "      <td>1</td>\n",
       "      <td>1</td>\n",
       "      <td>0</td>\n",
       "      <td>0</td>\n",
       "      <td>0</td>\n",
       "    </tr>\n",
       "    <tr>\n",
       "      <th>1</th>\n",
       "      <td>2</td>\n",
       "      <td>1795</td>\n",
       "      <td>33</td>\n",
       "      <td>85</td>\n",
       "      <td>2</td>\n",
       "      <td>0</td>\n",
       "      <td>0</td>\n",
       "      <td>1</td>\n",
       "      <td>94</td>\n",
       "      <td>1</td>\n",
       "      <td>1</td>\n",
       "      <td>0</td>\n",
       "      <td>0</td>\n",
       "      <td>0</td>\n",
       "    </tr>\n",
       "    <tr>\n",
       "      <th>2</th>\n",
       "      <td>3</td>\n",
       "      <td>1595</td>\n",
       "      <td>25</td>\n",
       "      <td>170</td>\n",
       "      <td>4</td>\n",
       "      <td>0</td>\n",
       "      <td>0</td>\n",
       "      <td>1</td>\n",
       "      <td>94</td>\n",
       "      <td>1</td>\n",
       "      <td>0</td>\n",
       "      <td>1</td>\n",
       "      <td>0</td>\n",
       "      <td>0</td>\n",
       "    </tr>\n",
       "    <tr>\n",
       "      <th>3</th>\n",
       "      <td>4</td>\n",
       "      <td>1849</td>\n",
       "      <td>25</td>\n",
       "      <td>170</td>\n",
       "      <td>8</td>\n",
       "      <td>0</td>\n",
       "      <td>0</td>\n",
       "      <td>0</td>\n",
       "      <td>94</td>\n",
       "      <td>1</td>\n",
       "      <td>1</td>\n",
       "      <td>0</td>\n",
       "      <td>0</td>\n",
       "      <td>0</td>\n",
       "    </tr>\n",
       "    <tr>\n",
       "      <th>4</th>\n",
       "      <td>5</td>\n",
       "      <td>3295</td>\n",
       "      <td>33</td>\n",
       "      <td>340</td>\n",
       "      <td>16</td>\n",
       "      <td>0</td>\n",
       "      <td>0</td>\n",
       "      <td>1</td>\n",
       "      <td>94</td>\n",
       "      <td>1</td>\n",
       "      <td>1</td>\n",
       "      <td>0</td>\n",
       "      <td>0</td>\n",
       "      <td>1</td>\n",
       "    </tr>\n",
       "  </tbody>\n",
       "</table>\n",
       "</div>"
      ],
      "text/plain": [
       "   S.No.  price  speed   hd  ram  cd  multi  premium  ads  trend  screen_14  \\\n",
       "0      1   1499     25   80    4   0      0        1   94      1          1   \n",
       "1      2   1795     33   85    2   0      0        1   94      1          1   \n",
       "2      3   1595     25  170    4   0      0        1   94      1          0   \n",
       "3      4   1849     25  170    8   0      0        0   94      1          1   \n",
       "4      5   3295     33  340   16   0      0        1   94      1          1   \n",
       "\n",
       "   screen_15  screen_17  hd_binary  \n",
       "0          0          0          0  \n",
       "1          0          0          0  \n",
       "2          1          0          0  \n",
       "3          0          0          0  \n",
       "4          0          0          1  "
      ]
     },
     "execution_count": 15,
     "metadata": {},
     "output_type": "execute_result"
    }
   ],
   "source": [
    "def hd_new(x):\n",
    "    if type(x)==int:\n",
    "        if x <=170:\n",
    "            return 0\n",
    "        else:\n",
    "            return 1\n",
    "\n",
    "df['hd_binary']=df['hd'].apply(hd_new)\n",
    "df.head()"
   ]
  },
  {
   "cell_type": "code",
   "execution_count": 16,
   "metadata": {},
   "outputs": [],
   "source": [
    "df.drop('hd', axis=1, inplace=True)"
   ]
  },
  {
   "cell_type": "code",
   "execution_count": 17,
   "metadata": {},
   "outputs": [],
   "source": [
    "df.drop('trend', axis=1, inplace=True)"
   ]
  },
  {
   "cell_type": "code",
   "execution_count": 18,
   "metadata": {},
   "outputs": [],
   "source": [
    "df.drop('multi', axis=1, inplace=True)"
   ]
  },
  {
   "cell_type": "code",
   "execution_count": 19,
   "metadata": {},
   "outputs": [
    {
     "data": {
      "text/html": [
       "<div>\n",
       "<style scoped>\n",
       "    .dataframe tbody tr th:only-of-type {\n",
       "        vertical-align: middle;\n",
       "    }\n",
       "\n",
       "    .dataframe tbody tr th {\n",
       "        vertical-align: top;\n",
       "    }\n",
       "\n",
       "    .dataframe thead th {\n",
       "        text-align: right;\n",
       "    }\n",
       "</style>\n",
       "<table border=\"1\" class=\"dataframe\">\n",
       "  <thead>\n",
       "    <tr style=\"text-align: right;\">\n",
       "      <th></th>\n",
       "      <th>S.No.</th>\n",
       "      <th>price</th>\n",
       "      <th>speed</th>\n",
       "      <th>ram</th>\n",
       "      <th>cd</th>\n",
       "      <th>premium</th>\n",
       "      <th>ads</th>\n",
       "      <th>screen_14</th>\n",
       "      <th>screen_15</th>\n",
       "      <th>screen_17</th>\n",
       "      <th>hd_binary</th>\n",
       "    </tr>\n",
       "  </thead>\n",
       "  <tbody>\n",
       "    <tr>\n",
       "      <th>0</th>\n",
       "      <td>1</td>\n",
       "      <td>1499</td>\n",
       "      <td>25</td>\n",
       "      <td>4</td>\n",
       "      <td>0</td>\n",
       "      <td>1</td>\n",
       "      <td>94</td>\n",
       "      <td>1</td>\n",
       "      <td>0</td>\n",
       "      <td>0</td>\n",
       "      <td>0</td>\n",
       "    </tr>\n",
       "    <tr>\n",
       "      <th>1</th>\n",
       "      <td>2</td>\n",
       "      <td>1795</td>\n",
       "      <td>33</td>\n",
       "      <td>2</td>\n",
       "      <td>0</td>\n",
       "      <td>1</td>\n",
       "      <td>94</td>\n",
       "      <td>1</td>\n",
       "      <td>0</td>\n",
       "      <td>0</td>\n",
       "      <td>0</td>\n",
       "    </tr>\n",
       "    <tr>\n",
       "      <th>2</th>\n",
       "      <td>3</td>\n",
       "      <td>1595</td>\n",
       "      <td>25</td>\n",
       "      <td>4</td>\n",
       "      <td>0</td>\n",
       "      <td>1</td>\n",
       "      <td>94</td>\n",
       "      <td>0</td>\n",
       "      <td>1</td>\n",
       "      <td>0</td>\n",
       "      <td>0</td>\n",
       "    </tr>\n",
       "    <tr>\n",
       "      <th>3</th>\n",
       "      <td>4</td>\n",
       "      <td>1849</td>\n",
       "      <td>25</td>\n",
       "      <td>8</td>\n",
       "      <td>0</td>\n",
       "      <td>0</td>\n",
       "      <td>94</td>\n",
       "      <td>1</td>\n",
       "      <td>0</td>\n",
       "      <td>0</td>\n",
       "      <td>0</td>\n",
       "    </tr>\n",
       "    <tr>\n",
       "      <th>4</th>\n",
       "      <td>5</td>\n",
       "      <td>3295</td>\n",
       "      <td>33</td>\n",
       "      <td>16</td>\n",
       "      <td>0</td>\n",
       "      <td>1</td>\n",
       "      <td>94</td>\n",
       "      <td>1</td>\n",
       "      <td>0</td>\n",
       "      <td>0</td>\n",
       "      <td>1</td>\n",
       "    </tr>\n",
       "  </tbody>\n",
       "</table>\n",
       "</div>"
      ],
      "text/plain": [
       "   S.No.  price  speed  ram  cd  premium  ads  screen_14  screen_15  \\\n",
       "0      1   1499     25    4   0        1   94          1          0   \n",
       "1      2   1795     33    2   0        1   94          1          0   \n",
       "2      3   1595     25    4   0        1   94          0          1   \n",
       "3      4   1849     25    8   0        0   94          1          0   \n",
       "4      5   3295     33   16   0        1   94          1          0   \n",
       "\n",
       "   screen_17  hd_binary  \n",
       "0          0          0  \n",
       "1          0          0  \n",
       "2          0          0  \n",
       "3          0          0  \n",
       "4          0          1  "
      ]
     },
     "execution_count": 19,
     "metadata": {},
     "output_type": "execute_result"
    }
   ],
   "source": [
    "df.head()"
   ]
  },
  {
   "cell_type": "markdown",
   "metadata": {},
   "source": [
    "Checking for null values"
   ]
  },
  {
   "cell_type": "code",
   "execution_count": 20,
   "metadata": {},
   "outputs": [
    {
     "data": {
      "text/plain": [
       "S.No.        0\n",
       "price        0\n",
       "speed        0\n",
       "ram          0\n",
       "cd           0\n",
       "premium      0\n",
       "ads          0\n",
       "screen_14    0\n",
       "screen_15    0\n",
       "screen_17    0\n",
       "hd_binary    0\n",
       "dtype: int64"
      ]
     },
     "execution_count": 20,
     "metadata": {},
     "output_type": "execute_result"
    }
   ],
   "source": [
    "df.isnull().sum()"
   ]
  },
  {
   "cell_type": "markdown",
   "metadata": {},
   "source": [
    "No null value found. Data cleaning complete"
   ]
  },
  {
   "cell_type": "code",
   "execution_count": 21,
   "metadata": {},
   "outputs": [
    {
     "name": "stdout",
     "output_type": "stream",
     "text": [
      "<class 'pandas.core.frame.DataFrame'>\n",
      "RangeIndex: 6259 entries, 0 to 6258\n",
      "Data columns (total 11 columns):\n",
      "S.No.        6259 non-null int64\n",
      "price        6259 non-null int64\n",
      "speed        6259 non-null int64\n",
      "ram          6259 non-null int64\n",
      "cd           6259 non-null int64\n",
      "premium      6259 non-null int64\n",
      "ads          6259 non-null int64\n",
      "screen_14    6259 non-null uint8\n",
      "screen_15    6259 non-null uint8\n",
      "screen_17    6259 non-null uint8\n",
      "hd_binary    6259 non-null int64\n",
      "dtypes: int64(8), uint8(3)\n",
      "memory usage: 409.6 KB\n"
     ]
    }
   ],
   "source": [
    "df.info()"
   ]
  },
  {
   "cell_type": "markdown",
   "metadata": {},
   "source": [
    "Finding the correlation between the dependent and independent variables of the dataset"
   ]
  },
  {
   "cell_type": "code",
   "execution_count": 22,
   "metadata": {},
   "outputs": [
    {
     "data": {
      "text/html": [
       "<div>\n",
       "<style scoped>\n",
       "    .dataframe tbody tr th:only-of-type {\n",
       "        vertical-align: middle;\n",
       "    }\n",
       "\n",
       "    .dataframe tbody tr th {\n",
       "        vertical-align: top;\n",
       "    }\n",
       "\n",
       "    .dataframe thead th {\n",
       "        text-align: right;\n",
       "    }\n",
       "</style>\n",
       "<table border=\"1\" class=\"dataframe\">\n",
       "  <thead>\n",
       "    <tr style=\"text-align: right;\">\n",
       "      <th></th>\n",
       "      <th>S.No.</th>\n",
       "      <th>price</th>\n",
       "      <th>speed</th>\n",
       "      <th>ram</th>\n",
       "      <th>cd</th>\n",
       "      <th>premium</th>\n",
       "      <th>ads</th>\n",
       "      <th>screen_14</th>\n",
       "      <th>screen_15</th>\n",
       "      <th>screen_17</th>\n",
       "      <th>hd_binary</th>\n",
       "    </tr>\n",
       "  </thead>\n",
       "  <tbody>\n",
       "    <tr>\n",
       "      <th>S.No.</th>\n",
       "      <td>1.000000</td>\n",
       "      <td>-0.199924</td>\n",
       "      <td>0.388566</td>\n",
       "      <td>0.265376</td>\n",
       "      <td>0.458642</td>\n",
       "      <td>0.037364</td>\n",
       "      <td>-0.272714</td>\n",
       "      <td>-0.219054</td>\n",
       "      <td>0.168148</td>\n",
       "      <td>0.100139</td>\n",
       "      <td>0.350081</td>\n",
       "    </tr>\n",
       "    <tr>\n",
       "      <th>price</th>\n",
       "      <td>-0.199924</td>\n",
       "      <td>1.000000</td>\n",
       "      <td>0.300976</td>\n",
       "      <td>0.622748</td>\n",
       "      <td>0.197343</td>\n",
       "      <td>-0.080696</td>\n",
       "      <td>0.054540</td>\n",
       "      <td>-0.278018</td>\n",
       "      <td>0.153539</td>\n",
       "      <td>0.221398</td>\n",
       "      <td>0.306169</td>\n",
       "    </tr>\n",
       "    <tr>\n",
       "      <th>speed</th>\n",
       "      <td>0.388566</td>\n",
       "      <td>0.300976</td>\n",
       "      <td>1.000000</td>\n",
       "      <td>0.234760</td>\n",
       "      <td>0.258260</td>\n",
       "      <td>0.114208</td>\n",
       "      <td>-0.215232</td>\n",
       "      <td>-0.233798</td>\n",
       "      <td>0.187292</td>\n",
       "      <td>0.094550</td>\n",
       "      <td>0.239066</td>\n",
       "    </tr>\n",
       "    <tr>\n",
       "      <th>ram</th>\n",
       "      <td>0.265376</td>\n",
       "      <td>0.622748</td>\n",
       "      <td>0.234760</td>\n",
       "      <td>1.000000</td>\n",
       "      <td>0.438504</td>\n",
       "      <td>0.197145</td>\n",
       "      <td>-0.181670</td>\n",
       "      <td>-0.312840</td>\n",
       "      <td>0.293399</td>\n",
       "      <td>0.059119</td>\n",
       "      <td>0.365308</td>\n",
       "    </tr>\n",
       "    <tr>\n",
       "      <th>cd</th>\n",
       "      <td>0.458642</td>\n",
       "      <td>0.197343</td>\n",
       "      <td>0.258260</td>\n",
       "      <td>0.438504</td>\n",
       "      <td>1.000000</td>\n",
       "      <td>0.216077</td>\n",
       "      <td>-0.061091</td>\n",
       "      <td>-0.180048</td>\n",
       "      <td>0.159893</td>\n",
       "      <td>0.048148</td>\n",
       "      <td>0.243492</td>\n",
       "    </tr>\n",
       "    <tr>\n",
       "      <th>premium</th>\n",
       "      <td>0.037364</td>\n",
       "      <td>-0.080696</td>\n",
       "      <td>0.114208</td>\n",
       "      <td>0.197145</td>\n",
       "      <td>0.216077</td>\n",
       "      <td>1.000000</td>\n",
       "      <td>-0.152023</td>\n",
       "      <td>-0.070993</td>\n",
       "      <td>0.094437</td>\n",
       "      <td>-0.030461</td>\n",
       "      <td>0.153781</td>\n",
       "    </tr>\n",
       "    <tr>\n",
       "      <th>ads</th>\n",
       "      <td>-0.272714</td>\n",
       "      <td>0.054540</td>\n",
       "      <td>-0.215232</td>\n",
       "      <td>-0.181670</td>\n",
       "      <td>-0.061091</td>\n",
       "      <td>-0.152023</td>\n",
       "      <td>1.000000</td>\n",
       "      <td>0.123791</td>\n",
       "      <td>-0.105182</td>\n",
       "      <td>-0.040588</td>\n",
       "      <td>-0.059645</td>\n",
       "    </tr>\n",
       "    <tr>\n",
       "      <th>screen_14</th>\n",
       "      <td>-0.219054</td>\n",
       "      <td>-0.278018</td>\n",
       "      <td>-0.233798</td>\n",
       "      <td>-0.312840</td>\n",
       "      <td>-0.180048</td>\n",
       "      <td>-0.070993</td>\n",
       "      <td>0.123791</td>\n",
       "      <td>1.000000</td>\n",
       "      <td>-0.811080</td>\n",
       "      <td>-0.388667</td>\n",
       "      <td>-0.227112</td>\n",
       "    </tr>\n",
       "    <tr>\n",
       "      <th>screen_15</th>\n",
       "      <td>0.168148</td>\n",
       "      <td>0.153539</td>\n",
       "      <td>0.187292</td>\n",
       "      <td>0.293399</td>\n",
       "      <td>0.159893</td>\n",
       "      <td>0.094437</td>\n",
       "      <td>-0.105182</td>\n",
       "      <td>-0.811080</td>\n",
       "      <td>1.000000</td>\n",
       "      <td>-0.223707</td>\n",
       "      <td>0.171707</td>\n",
       "    </tr>\n",
       "    <tr>\n",
       "      <th>screen_17</th>\n",
       "      <td>0.100139</td>\n",
       "      <td>0.221398</td>\n",
       "      <td>0.094550</td>\n",
       "      <td>0.059119</td>\n",
       "      <td>0.048148</td>\n",
       "      <td>-0.030461</td>\n",
       "      <td>-0.040588</td>\n",
       "      <td>-0.388667</td>\n",
       "      <td>-0.223707</td>\n",
       "      <td>1.000000</td>\n",
       "      <td>0.107958</td>\n",
       "    </tr>\n",
       "    <tr>\n",
       "      <th>hd_binary</th>\n",
       "      <td>0.350081</td>\n",
       "      <td>0.306169</td>\n",
       "      <td>0.239066</td>\n",
       "      <td>0.365308</td>\n",
       "      <td>0.243492</td>\n",
       "      <td>0.153781</td>\n",
       "      <td>-0.059645</td>\n",
       "      <td>-0.227112</td>\n",
       "      <td>0.171707</td>\n",
       "      <td>0.107958</td>\n",
       "      <td>1.000000</td>\n",
       "    </tr>\n",
       "  </tbody>\n",
       "</table>\n",
       "</div>"
      ],
      "text/plain": [
       "              S.No.     price     speed       ram        cd   premium  \\\n",
       "S.No.      1.000000 -0.199924  0.388566  0.265376  0.458642  0.037364   \n",
       "price     -0.199924  1.000000  0.300976  0.622748  0.197343 -0.080696   \n",
       "speed      0.388566  0.300976  1.000000  0.234760  0.258260  0.114208   \n",
       "ram        0.265376  0.622748  0.234760  1.000000  0.438504  0.197145   \n",
       "cd         0.458642  0.197343  0.258260  0.438504  1.000000  0.216077   \n",
       "premium    0.037364 -0.080696  0.114208  0.197145  0.216077  1.000000   \n",
       "ads       -0.272714  0.054540 -0.215232 -0.181670 -0.061091 -0.152023   \n",
       "screen_14 -0.219054 -0.278018 -0.233798 -0.312840 -0.180048 -0.070993   \n",
       "screen_15  0.168148  0.153539  0.187292  0.293399  0.159893  0.094437   \n",
       "screen_17  0.100139  0.221398  0.094550  0.059119  0.048148 -0.030461   \n",
       "hd_binary  0.350081  0.306169  0.239066  0.365308  0.243492  0.153781   \n",
       "\n",
       "                ads  screen_14  screen_15  screen_17  hd_binary  \n",
       "S.No.     -0.272714  -0.219054   0.168148   0.100139   0.350081  \n",
       "price      0.054540  -0.278018   0.153539   0.221398   0.306169  \n",
       "speed     -0.215232  -0.233798   0.187292   0.094550   0.239066  \n",
       "ram       -0.181670  -0.312840   0.293399   0.059119   0.365308  \n",
       "cd        -0.061091  -0.180048   0.159893   0.048148   0.243492  \n",
       "premium   -0.152023  -0.070993   0.094437  -0.030461   0.153781  \n",
       "ads        1.000000   0.123791  -0.105182  -0.040588  -0.059645  \n",
       "screen_14  0.123791   1.000000  -0.811080  -0.388667  -0.227112  \n",
       "screen_15 -0.105182  -0.811080   1.000000  -0.223707   0.171707  \n",
       "screen_17 -0.040588  -0.388667  -0.223707   1.000000   0.107958  \n",
       "hd_binary -0.059645  -0.227112   0.171707   0.107958   1.000000  "
      ]
     },
     "execution_count": 22,
     "metadata": {},
     "output_type": "execute_result"
    }
   ],
   "source": [
    "df.corr()"
   ]
  },
  {
   "cell_type": "markdown",
   "metadata": {},
   "source": [
    "Plotting the heatmap"
   ]
  },
  {
   "cell_type": "code",
   "execution_count": 23,
   "metadata": {},
   "outputs": [
    {
     "data": {
      "image/png": "[encoded data removed]",
      "text/plain": [
       "<Figure size 1152x864 with 2 Axes>"
      ]
     },
     "metadata": {
      "needs_background": "light"
     },
     "output_type": "display_data"
    }
   ],
   "source": [
    "plt.figure(figsize=(16,12))\n",
    "sns.heatmap(data=df.corr(),annot=True,fmt='.2f',cmap='coolwarm')\n",
    "plt.show()"
   ]
  },
  {
   "cell_type": "markdown",
   "metadata": {},
   "source": [
    "From the heatmap, we can understand that the major factors affecting the price of computers are speed, hd_binary, ram, screen_14, screen_15, screen_17, ads and cd. Now we can plot the heatmap just by taking these attributes"
   ]
  },
  {
   "cell_type": "code",
   "execution_count": 24,
   "metadata": {},
   "outputs": [
    {
     "data": {
      "text/plain": [
       "<matplotlib.axes._subplots.AxesSubplot at 0x21cc9c75fd0>"
      ]
     },
     "execution_count": 24,
     "metadata": {},
     "output_type": "execute_result"
    },
    {
     "data": {
      "image/png": "[encoded data removed]",
      "text/plain": [
       "<Figure size 432x288 with 2 Axes>"
      ]
     },
     "metadata": {
      "needs_background": "light"
     },
     "output_type": "display_data"
    }
   ],
   "source": [
    "x=df[['price','speed','hd_binary','ram','screen_14','cd','screen_15','screen_17','ads','premium']]\n",
    "sns.heatmap(x.corr(), annot=True)"
   ]
  },
  {
   "cell_type": "markdown",
   "metadata": {},
   "source": [
    "From the heatmap we can understand that the major predictors affecting prices of computers are speed, hd_binary, ram, screen sizes and ads. Out of all the predictors only screen_14 is inversely related to prices. Also ads are not affecting prices in a big way but we will still consider as this is our only continous predictor in the dataset."
   ]
  },
  {
   "cell_type": "markdown",
   "metadata": {},
   "source": [
    "Plotting the pairplot for all the predictors."
   ]
  },
  {
   "cell_type": "code",
   "execution_count": 25,
   "metadata": {},
   "outputs": [
    {
     "data": {
      "text/plain": [
       "<seaborn.axisgrid.PairGrid at 0x21cc9c9e470>"
      ]
     },
     "execution_count": 25,
     "metadata": {},
     "output_type": "execute_result"
    },
    {
     "data": {
      "image/png": "[encoded data removed]",
      "text/plain": [
       "<Figure size 1440x1440 with 72 Axes>"
      ]
     },
     "metadata": {
      "needs_background": "light"
     },
     "output_type": "display_data"
    }
   ],
   "source": [
    "x=df[['price','cd','screen_14','ram','speed','screen_15','screen_17','ads']]\n",
    "sns.pairplot(x)"
   ]
  },
  {
   "cell_type": "markdown",
   "metadata": {},
   "source": [
    "# Model 1\n",
    "\n",
    "Performing Least Square method for getting the value of AIC, BIC and Adjusted R square"
   ]
  },
  {
   "cell_type": "code",
   "execution_count": 26,
   "metadata": {},
   "outputs": [],
   "source": [
    "y=df[['price']]\n",
    "x=df[['hd_binary','cd','screen_14','ram','speed','screen_15','screen_17','ads']]\n",
    "model =sm.OLS(y, x).fit()"
   ]
  },
  {
   "cell_type": "code",
   "execution_count": 27,
   "metadata": {},
   "outputs": [
    {
     "data": {
      "text/html": [
       "<table class=\"simpletable\">\n",
       "<caption>OLS Regression Results</caption>\n",
       "<tr>\n",
       "  <th>Dep. Variable:</th>          <td>price</td>      <th>  R-squared:         </th> <td>   0.503</td> \n",
       "</tr>\n",
       "<tr>\n",
       "  <th>Model:</th>                   <td>OLS</td>       <th>  Adj. R-squared:    </th> <td>   0.503</td> \n",
       "</tr>\n",
       "<tr>\n",
       "  <th>Method:</th>             <td>Least Squares</td>  <th>  F-statistic:       </th> <td>   905.1</td> \n",
       "</tr>\n",
       "<tr>\n",
       "  <th>Date:</th>             <td>Mon, 25 Feb 2019</td> <th>  Prob (F-statistic):</th>  <td>  0.00</td>  \n",
       "</tr>\n",
       "<tr>\n",
       "  <th>Time:</th>                 <td>18:39:16</td>     <th>  Log-Likelihood:    </th> <td> -46525.</td> \n",
       "</tr>\n",
       "<tr>\n",
       "  <th>No. Observations:</th>      <td>  6259</td>      <th>  AIC:               </th> <td>9.307e+04</td>\n",
       "</tr>\n",
       "<tr>\n",
       "  <th>Df Residuals:</th>          <td>  6251</td>      <th>  BIC:               </th> <td>9.312e+04</td>\n",
       "</tr>\n",
       "<tr>\n",
       "  <th>Df Model:</th>              <td>     7</td>      <th>                     </th>     <td> </td>    \n",
       "</tr>\n",
       "<tr>\n",
       "  <th>Covariance Type:</th>      <td>nonrobust</td>    <th>                     </th>     <td> </td>    \n",
       "</tr>\n",
       "</table>\n",
       "<table class=\"simpletable\">\n",
       "<tr>\n",
       "      <td></td>         <th>coef</th>     <th>std err</th>      <th>t</th>      <th>P>|t|</th>  <th>[0.025</th>    <th>0.975]</th>  \n",
       "</tr>\n",
       "<tr>\n",
       "  <th>hd_binary</th> <td>   82.7051</td> <td>   16.355</td> <td>    5.057</td> <td> 0.000</td> <td>   50.644</td> <td>  114.766</td>\n",
       "</tr>\n",
       "<tr>\n",
       "  <th>cd</th>        <td> -172.4952</td> <td>   11.783</td> <td>  -14.639</td> <td> 0.000</td> <td> -195.595</td> <td> -149.396</td>\n",
       "</tr>\n",
       "<tr>\n",
       "  <th>screen_14</th> <td>  972.3178</td> <td>   25.614</td> <td>   37.960</td> <td> 0.000</td> <td>  922.105</td> <td> 1022.530</td>\n",
       "</tr>\n",
       "<tr>\n",
       "  <th>ram</th>       <td>   67.0767</td> <td>    1.114</td> <td>   60.197</td> <td> 0.000</td> <td>   64.892</td> <td>   69.261</td>\n",
       "</tr>\n",
       "<tr>\n",
       "  <th>speed</th>     <td>    5.6226</td> <td>    0.266</td> <td>   21.106</td> <td> 0.000</td> <td>    5.100</td> <td>    6.145</td>\n",
       "</tr>\n",
       "<tr>\n",
       "  <th>screen_15</th> <td>  974.2000</td> <td>   28.311</td> <td>   34.411</td> <td> 0.000</td> <td>  918.701</td> <td> 1029.699</td>\n",
       "</tr>\n",
       "<tr>\n",
       "  <th>screen_17</th> <td> 1315.1132</td> <td>   31.508</td> <td>   41.739</td> <td> 0.000</td> <td> 1253.347</td> <td> 1376.880</td>\n",
       "</tr>\n",
       "<tr>\n",
       "  <th>ads</th>       <td>    1.6913</td> <td>    0.072</td> <td>   23.571</td> <td> 0.000</td> <td>    1.551</td> <td>    1.832</td>\n",
       "</tr>\n",
       "</table>\n",
       "<table class=\"simpletable\">\n",
       "<tr>\n",
       "  <th>Omnibus:</th>       <td>1424.013</td> <th>  Durbin-Watson:     </th> <td>   1.407</td>\n",
       "</tr>\n",
       "<tr>\n",
       "  <th>Prob(Omnibus):</th>  <td> 0.000</td>  <th>  Jarque-Bera (JB):  </th> <td>3890.802</td>\n",
       "</tr>\n",
       "<tr>\n",
       "  <th>Skew:</th>           <td> 1.207</td>  <th>  Prob(JB):          </th> <td>    0.00</td>\n",
       "</tr>\n",
       "<tr>\n",
       "  <th>Kurtosis:</th>       <td> 6.015</td>  <th>  Cond. No.          </th> <td>2.17e+03</td>\n",
       "</tr>\n",
       "</table><br/><br/>Warnings:<br/>[1] Standard Errors assume that the covariance matrix of the errors is correctly specified.<br/>[2] The condition number is large, 2.17e+03. This might indicate that there are<br/>strong multicollinearity or other numerical problems."
      ],
      "text/plain": [
       "<class 'statsmodels.iolib.summary.Summary'>\n",
       "\"\"\"\n",
       "                            OLS Regression Results                            \n",
       "==============================================================================\n",
       "Dep. Variable:                  price   R-squared:                       0.503\n",
       "Model:                            OLS   Adj. R-squared:                  0.503\n",
       "Method:                 Least Squares   F-statistic:                     905.1\n",
       "Date:                Mon, 25 Feb 2019   Prob (F-statistic):               0.00\n",
       "Time:                        18:39:16   Log-Likelihood:                -46525.\n",
       "No. Observations:                6259   AIC:                         9.307e+04\n",
       "Df Residuals:                    6251   BIC:                         9.312e+04\n",
       "Df Model:                           7                                         \n",
       "Covariance Type:            nonrobust                                         \n",
       "==============================================================================\n",
       "                 coef    std err          t      P>|t|      [0.025      0.975]\n",
       "------------------------------------------------------------------------------\n",
       "hd_binary     82.7051     16.355      5.057      0.000      50.644     114.766\n",
       "cd          -172.4952     11.783    -14.639      0.000    -195.595    -149.396\n",
       "screen_14    972.3178     25.614     37.960      0.000     922.105    1022.530\n",
       "ram           67.0767      1.114     60.197      0.000      64.892      69.261\n",
       "speed          5.6226      0.266     21.106      0.000       5.100       6.145\n",
       "screen_15    974.2000     28.311     34.411      0.000     918.701    1029.699\n",
       "screen_17   1315.1132     31.508     41.739      0.000    1253.347    1376.880\n",
       "ads            1.6913      0.072     23.571      0.000       1.551       1.832\n",
       "==============================================================================\n",
       "Omnibus:                     1424.013   Durbin-Watson:                   1.407\n",
       "Prob(Omnibus):                  0.000   Jarque-Bera (JB):             3890.802\n",
       "Skew:                           1.207   Prob(JB):                         0.00\n",
       "Kurtosis:                       6.015   Cond. No.                     2.17e+03\n",
       "==============================================================================\n",
       "\n",
       "Warnings:\n",
       "[1] Standard Errors assume that the covariance matrix of the errors is correctly specified.\n",
       "[2] The condition number is large, 2.17e+03. This might indicate that there are\n",
       "strong multicollinearity or other numerical problems.\n",
       "\"\"\""
      ]
     },
     "execution_count": 27,
     "metadata": {},
     "output_type": "execute_result"
    }
   ],
   "source": [
    "model.summary()"
   ]
  },
  {
   "cell_type": "markdown",
   "metadata": {},
   "source": [
    "Here the value of AIC and BIC is very high and adjusted R square is very low. There fore we can assume that this model might not be the best model. However we need to understand Null hypothesis to ascertain the predictors important for Linear regression. In this model, the least significant predictor is cd."
   ]
  },
  {
   "cell_type": "markdown",
   "metadata": {},
   "source": [
    "Performing Linear Regression on our first model"
   ]
  },
  {
   "cell_type": "code",
   "execution_count": 28,
   "metadata": {},
   "outputs": [],
   "source": [
    "train, test = train_test_split(df, test_size=0.3, shuffle=True)\n",
    "training_features = ['hd_binary','screen_14','cd','ram','speed','screen_15','screen_17','ads']\n",
    "target = 'price'\n",
    "train_X = train[training_features]\n",
    "train_Y = train[target]\n",
    "test_X = test[training_features]\n",
    "test_Y = test[target]"
   ]
  },
  {
   "cell_type": "code",
   "execution_count": 29,
   "metadata": {},
   "outputs": [
    {
     "name": "stdout",
     "output_type": "stream",
     "text": [
      "rmse_train: 406.27803682268774 msle_train: 0.03336214762442857\n",
      "rmse_test: 416.6609879957938 msle_test: 0.03430374687859725\n"
     ]
    }
   ],
   "source": [
    "model = LinearRegression()\n",
    "model.fit(train_X, train_Y)\n",
    "train_pred_Y = model.predict(train_X)\n",
    "test_pred_Y = model.predict(test_X)\n",
    "train_pred_Y = pd.Series(train_pred_Y.clip(0, train_pred_Y.max()), index=train_Y.index)\n",
    "test_pred_Y = pd.Series(test_pred_Y.clip(0, test_pred_Y.max()), index=test_Y.index)\n",
    "\n",
    "rmse_train = np.sqrt(mean_squared_error(train_pred_Y, train_Y))\n",
    "msle_train = mean_squared_log_error(train_pred_Y, train_Y)\n",
    "rmse_test = np.sqrt(mean_squared_error(test_pred_Y, test_Y))\n",
    "msle_test = mean_squared_log_error(test_pred_Y, test_Y)\n",
    "\n",
    "print('rmse_train:',rmse_train,'msle_train:',msle_train)\n",
    "print('rmse_test:',rmse_test,'msle_test:',msle_test)"
   ]
  },
  {
   "cell_type": "markdown",
   "metadata": {},
   "source": [
    "Performing Cross Validation on Model 1\n"
   ]
  },
  {
   "cell_type": "code",
   "execution_count": 30,
   "metadata": {},
   "outputs": [],
   "source": [
    "cols_to_use=['hd_binary','screen_14','cd','ram','speed','screen_15','screen_17','ads']\n",
    "X=df[cols_to_use]\n",
    "y=df.price"
   ]
  },
  {
   "cell_type": "code",
   "execution_count": 31,
   "metadata": {},
   "outputs": [],
   "source": [
    "from sklearn.ensemble import RandomForestRegressor\n",
    "from sklearn.pipeline import make_pipeline\n",
    "from sklearn.preprocessing import Imputer\n",
    "my_pipeline = make_pipeline(Imputer(), RandomForestRegressor())"
   ]
  },
  {
   "cell_type": "code",
   "execution_count": 32,
   "metadata": {},
   "outputs": [
    {
     "name": "stdout",
     "output_type": "stream",
     "text": [
      "[-515.86767327 -356.36369394 -782.64554564]\n"
     ]
    }
   ],
   "source": [
    "from sklearn.model_selection import cross_val_score\n",
    "scores = cross_val_score(my_pipeline, X, y, scoring='neg_mean_absolute_error')\n",
    "print(scores)"
   ]
  },
  {
   "cell_type": "code",
   "execution_count": 33,
   "metadata": {},
   "outputs": [
    {
     "name": "stdout",
     "output_type": "stream",
     "text": [
      "Mean Absolute Error 551.625638\n"
     ]
    }
   ],
   "source": [
    "print('Mean Absolute Error %2f' %(-1 * scores.mean()))"
   ]
  },
  {
   "cell_type": "markdown",
   "metadata": {},
   "source": [
    "# MULTICOLLINEARITY\n",
    "\n",
    "Calaculating multicollinearity amongst the predictors"
   ]
  },
  {
   "cell_type": "code",
   "execution_count": 34,
   "metadata": {},
   "outputs": [
    {
     "data": {
      "text/html": [
       "<div>\n",
       "<style scoped>\n",
       "    .dataframe tbody tr th:only-of-type {\n",
       "        vertical-align: middle;\n",
       "    }\n",
       "\n",
       "    .dataframe tbody tr th {\n",
       "        vertical-align: top;\n",
       "    }\n",
       "\n",
       "    .dataframe thead th {\n",
       "        text-align: right;\n",
       "    }\n",
       "</style>\n",
       "<table border=\"1\" class=\"dataframe\">\n",
       "  <thead>\n",
       "    <tr style=\"text-align: right;\">\n",
       "      <th></th>\n",
       "      <th>VIF Factor</th>\n",
       "      <th>features</th>\n",
       "    </tr>\n",
       "  </thead>\n",
       "  <tbody>\n",
       "    <tr>\n",
       "      <th>0</th>\n",
       "      <td>1.210681</td>\n",
       "      <td>hd_binary</td>\n",
       "    </tr>\n",
       "    <tr>\n",
       "      <th>1</th>\n",
       "      <td>1.288879</td>\n",
       "      <td>cd</td>\n",
       "    </tr>\n",
       "    <tr>\n",
       "      <th>2</th>\n",
       "      <td>14.320808</td>\n",
       "      <td>screen_14</td>\n",
       "    </tr>\n",
       "    <tr>\n",
       "      <th>3</th>\n",
       "      <td>1.469018</td>\n",
       "      <td>ram</td>\n",
       "    </tr>\n",
       "    <tr>\n",
       "      <th>4</th>\n",
       "      <td>1.185333</td>\n",
       "      <td>speed</td>\n",
       "    </tr>\n",
       "    <tr>\n",
       "      <th>5</th>\n",
       "      <td>9.519332</td>\n",
       "      <td>screen_15</td>\n",
       "    </tr>\n",
       "    <tr>\n",
       "      <th>6</th>\n",
       "      <td>3.586902</td>\n",
       "      <td>screen_17</td>\n",
       "    </tr>\n",
       "    <tr>\n",
       "      <th>7</th>\n",
       "      <td>1.075886</td>\n",
       "      <td>ads</td>\n",
       "    </tr>\n",
       "  </tbody>\n",
       "</table>\n",
       "</div>"
      ],
      "text/plain": [
       "   VIF Factor   features\n",
       "0    1.210681  hd_binary\n",
       "1    1.288879         cd\n",
       "2   14.320808  screen_14\n",
       "3    1.469018        ram\n",
       "4    1.185333      speed\n",
       "5    9.519332  screen_15\n",
       "6    3.586902  screen_17\n",
       "7    1.075886        ads"
      ]
     },
     "execution_count": 34,
     "metadata": {},
     "output_type": "execute_result"
    }
   ],
   "source": [
    "def variance_IF(x):\n",
    "    vif=vif = pd.DataFrame()\n",
    "    vif[\"VIF Factor\"] = [variance_inflation_factor(x.values, i) for i in range(x.shape[1])]\n",
    "    vif[\"features\"] = x.columns\n",
    "    return vif\n",
    "\n",
    "variance_IF(x)"
   ]
  },
  {
   "cell_type": "markdown",
   "metadata": {},
   "source": [
    "On checking the multi collinearity, we asses the VIF factor. The higher the VIF factor, the more dependent are the varibale. Therefore we are supposed to remove them from our model. Here Screen sizes have highest multi collinearity.\n",
    "\n",
    "By perfroming multicollinearity we found that screen sizes are the most collinear predictor and therefore we should exclude them in our next model"
   ]
  },
  {
   "cell_type": "markdown",
   "metadata": {},
   "source": [
    "## Model2"
   ]
  },
  {
   "cell_type": "markdown",
   "metadata": {},
   "source": [
    "Performing Ordinary Least Square method on our new set of predictors"
   ]
  },
  {
   "cell_type": "code",
   "execution_count": 35,
   "metadata": {},
   "outputs": [],
   "source": [
    "y=df[['price']]\n",
    "x=df[['hd_binary','ram','speed','ads','cd']]\n",
    "model =sm.OLS(y, x).fit()"
   ]
  },
  {
   "cell_type": "code",
   "execution_count": 36,
   "metadata": {},
   "outputs": [
    {
     "data": {
      "text/html": [
       "<table class=\"simpletable\">\n",
       "<caption>OLS Regression Results</caption>\n",
       "<tr>\n",
       "  <th>Dep. Variable:</th>          <td>price</td>      <th>  R-squared:         </th> <td>   0.959</td> \n",
       "</tr>\n",
       "<tr>\n",
       "  <th>Model:</th>                   <td>OLS</td>       <th>  Adj. R-squared:    </th> <td>   0.959</td> \n",
       "</tr>\n",
       "<tr>\n",
       "  <th>Method:</th>             <td>Least Squares</td>  <th>  F-statistic:       </th> <td>2.921e+04</td>\n",
       "</tr>\n",
       "<tr>\n",
       "  <th>Date:</th>             <td>Mon, 25 Feb 2019</td> <th>  Prob (F-statistic):</th>  <td>  0.00</td>  \n",
       "</tr>\n",
       "<tr>\n",
       "  <th>Time:</th>                 <td>18:39:17</td>     <th>  Log-Likelihood:    </th> <td> -47323.</td> \n",
       "</tr>\n",
       "<tr>\n",
       "  <th>No. Observations:</th>      <td>  6259</td>      <th>  AIC:               </th> <td>9.466e+04</td>\n",
       "</tr>\n",
       "<tr>\n",
       "  <th>Df Residuals:</th>          <td>  6254</td>      <th>  BIC:               </th> <td>9.469e+04</td>\n",
       "</tr>\n",
       "<tr>\n",
       "  <th>Df Model:</th>              <td>     5</td>      <th>                     </th>     <td> </td>    \n",
       "</tr>\n",
       "<tr>\n",
       "  <th>Covariance Type:</th>      <td>nonrobust</td>    <th>                     </th>     <td> </td>    \n",
       "</tr>\n",
       "</table>\n",
       "<table class=\"simpletable\">\n",
       "<tr>\n",
       "      <td></td>         <th>coef</th>     <th>std err</th>      <th>t</th>      <th>P>|t|</th>  <th>[0.025</th>    <th>0.975]</th>  \n",
       "</tr>\n",
       "<tr>\n",
       "  <th>hd_binary</th> <td>  308.4380</td> <td>   17.458</td> <td>   17.667</td> <td> 0.000</td> <td>  274.214</td> <td>  342.662</td>\n",
       "</tr>\n",
       "<tr>\n",
       "  <th>ram</th>       <td>   74.7980</td> <td>    1.215</td> <td>   61.579</td> <td> 0.000</td> <td>   72.417</td> <td>   77.179</td>\n",
       "</tr>\n",
       "<tr>\n",
       "  <th>speed</th>     <td>   11.0490</td> <td>    0.258</td> <td>   42.887</td> <td> 0.000</td> <td>   10.544</td> <td>   11.554</td>\n",
       "</tr>\n",
       "<tr>\n",
       "  <th>ads</th>       <td>    3.6883</td> <td>    0.054</td> <td>   67.865</td> <td> 0.000</td> <td>    3.582</td> <td>    3.795</td>\n",
       "</tr>\n",
       "<tr>\n",
       "  <th>cd</th>        <td> -206.0483</td> <td>   13.339</td> <td>  -15.447</td> <td> 0.000</td> <td> -232.197</td> <td> -179.899</td>\n",
       "</tr>\n",
       "</table>\n",
       "<table class=\"simpletable\">\n",
       "<tr>\n",
       "  <th>Omnibus:</th>       <td>1037.309</td> <th>  Durbin-Watson:     </th> <td>   1.114</td>\n",
       "</tr>\n",
       "<tr>\n",
       "  <th>Prob(Omnibus):</th>  <td> 0.000</td>  <th>  Jarque-Bera (JB):  </th> <td>2055.677</td>\n",
       "</tr>\n",
       "<tr>\n",
       "  <th>Skew:</th>           <td> 1.009</td>  <th>  Prob(JB):          </th> <td>    0.00</td>\n",
       "</tr>\n",
       "<tr>\n",
       "  <th>Kurtosis:</th>       <td> 4.952</td>  <th>  Cond. No.          </th> <td>    710.</td>\n",
       "</tr>\n",
       "</table><br/><br/>Warnings:<br/>[1] Standard Errors assume that the covariance matrix of the errors is correctly specified."
      ],
      "text/plain": [
       "<class 'statsmodels.iolib.summary.Summary'>\n",
       "\"\"\"\n",
       "                            OLS Regression Results                            \n",
       "==============================================================================\n",
       "Dep. Variable:                  price   R-squared:                       0.959\n",
       "Model:                            OLS   Adj. R-squared:                  0.959\n",
       "Method:                 Least Squares   F-statistic:                 2.921e+04\n",
       "Date:                Mon, 25 Feb 2019   Prob (F-statistic):               0.00\n",
       "Time:                        18:39:17   Log-Likelihood:                -47323.\n",
       "No. Observations:                6259   AIC:                         9.466e+04\n",
       "Df Residuals:                    6254   BIC:                         9.469e+04\n",
       "Df Model:                           5                                         \n",
       "Covariance Type:            nonrobust                                         \n",
       "==============================================================================\n",
       "                 coef    std err          t      P>|t|      [0.025      0.975]\n",
       "------------------------------------------------------------------------------\n",
       "hd_binary    308.4380     17.458     17.667      0.000     274.214     342.662\n",
       "ram           74.7980      1.215     61.579      0.000      72.417      77.179\n",
       "speed         11.0490      0.258     42.887      0.000      10.544      11.554\n",
       "ads            3.6883      0.054     67.865      0.000       3.582       3.795\n",
       "cd          -206.0483     13.339    -15.447      0.000    -232.197    -179.899\n",
       "==============================================================================\n",
       "Omnibus:                     1037.309   Durbin-Watson:                   1.114\n",
       "Prob(Omnibus):                  0.000   Jarque-Bera (JB):             2055.677\n",
       "Skew:                           1.009   Prob(JB):                         0.00\n",
       "Kurtosis:                       4.952   Cond. No.                         710.\n",
       "==============================================================================\n",
       "\n",
       "Warnings:\n",
       "[1] Standard Errors assume that the covariance matrix of the errors is correctly specified.\n",
       "\"\"\""
      ]
     },
     "execution_count": 36,
     "metadata": {},
     "output_type": "execute_result"
    }
   ],
   "source": [
    "model.summary()"
   ]
  },
  {
   "cell_type": "markdown",
   "metadata": {},
   "source": [
    "In this model, R square has significantly increased however there is a slight decrease in value of AIC and BIC. Therefore we can assume that this model might be better than the first model"
   ]
  },
  {
   "cell_type": "markdown",
   "metadata": {},
   "source": [
    "Performing Linear Regression on Model 2"
   ]
  },
  {
   "cell_type": "code",
   "execution_count": 37,
   "metadata": {},
   "outputs": [],
   "source": [
    "train, test = train_test_split(df, test_size=0.3, shuffle=True)\n",
    "training_features = ['hd_binary','ram','speed','ads','cd']\n",
    "target = 'price'\n",
    "train_X = train[training_features]\n",
    "train_Y = train[target]\n",
    "test_X = test[training_features]\n",
    "test_Y = test[target]"
   ]
  },
  {
   "cell_type": "code",
   "execution_count": 38,
   "metadata": {},
   "outputs": [
    {
     "name": "stdout",
     "output_type": "stream",
     "text": [
      "rmse_train: 420.9592678302798 msle_train: 0.035427436841573456\n",
      "rmse_test: 422.60946892985845 msle_test: 0.03599258060785119\n"
     ]
    }
   ],
   "source": [
    "model = LinearRegression()\n",
    "model.fit(train_X, train_Y)\n",
    "train_pred_Y = model.predict(train_X)\n",
    "test_pred_Y = model.predict(test_X)\n",
    "train_pred_Y = pd.Series(train_pred_Y.clip(0, train_pred_Y.max()), index=train_Y.index)\n",
    "test_pred_Y = pd.Series(test_pred_Y.clip(0, test_pred_Y.max()), index=test_Y.index)\n",
    "\n",
    "rmse_train = np.sqrt(mean_squared_error(train_pred_Y, train_Y))\n",
    "msle_train = mean_squared_log_error(train_pred_Y, train_Y)\n",
    "rmse_test = np.sqrt(mean_squared_error(test_pred_Y, test_Y))\n",
    "msle_test = mean_squared_log_error(test_pred_Y, test_Y)\n",
    "\n",
    "print('rmse_train:',rmse_train,'msle_train:',msle_train)\n",
    "print('rmse_test:',rmse_test,'msle_test:',msle_test)"
   ]
  },
  {
   "cell_type": "markdown",
   "metadata": {},
   "source": [
    "We have performed the linear regression and found the value of RMSE test as 395, which is lower than first model."
   ]
  },
  {
   "cell_type": "markdown",
   "metadata": {},
   "source": [
    "Performing Cross Validation on Model 2"
   ]
  },
  {
   "cell_type": "code",
   "execution_count": 39,
   "metadata": {},
   "outputs": [],
   "source": [
    "cols_to_use=['hd_binary','cd','ram','speed','ads']\n",
    "X=df[cols_to_use]\n",
    "y=df.price"
   ]
  },
  {
   "cell_type": "code",
   "execution_count": 40,
   "metadata": {},
   "outputs": [],
   "source": [
    "my_pipeline = make_pipeline(Imputer(), RandomForestRegressor())"
   ]
  },
  {
   "cell_type": "code",
   "execution_count": 41,
   "metadata": {},
   "outputs": [
    {
     "name": "stdout",
     "output_type": "stream",
     "text": [
      "[-518.00511958 -376.48598132 -878.44416227]\n"
     ]
    }
   ],
   "source": [
    "scores = cross_val_score(my_pipeline, X, y, scoring='neg_mean_absolute_error')\n",
    "print(scores)"
   ]
  },
  {
   "cell_type": "code",
   "execution_count": 42,
   "metadata": {},
   "outputs": [
    {
     "name": "stdout",
     "output_type": "stream",
     "text": [
      "Mean Absolute Error 590.978421\n"
     ]
    }
   ],
   "source": [
    "print('Mean Absolute Error %2f' %(-1 * scores.mean()))"
   ]
  },
  {
   "cell_type": "markdown",
   "metadata": {},
   "source": [
    "## Model 3"
   ]
  },
  {
   "cell_type": "markdown",
   "metadata": {},
   "source": [
    "Performing Ordinary Least Square method on model 3"
   ]
  },
  {
   "cell_type": "code",
   "execution_count": 43,
   "metadata": {},
   "outputs": [],
   "source": [
    "y=df[['price']]\n",
    "x=df[['hd_binary','ram','speed','ads']]\n",
    "model =sm.OLS(y, x).fit()"
   ]
  },
  {
   "cell_type": "code",
   "execution_count": 44,
   "metadata": {},
   "outputs": [
    {
     "data": {
      "text/html": [
       "<table class=\"simpletable\">\n",
       "<caption>OLS Regression Results</caption>\n",
       "<tr>\n",
       "  <th>Dep. Variable:</th>          <td>price</td>      <th>  R-squared:         </th> <td>   0.957</td> \n",
       "</tr>\n",
       "<tr>\n",
       "  <th>Model:</th>                   <td>OLS</td>       <th>  Adj. R-squared:    </th> <td>   0.957</td> \n",
       "</tr>\n",
       "<tr>\n",
       "  <th>Method:</th>             <td>Least Squares</td>  <th>  F-statistic:       </th> <td>3.512e+04</td>\n",
       "</tr>\n",
       "<tr>\n",
       "  <th>Date:</th>             <td>Mon, 25 Feb 2019</td> <th>  Prob (F-statistic):</th>  <td>  0.00</td>  \n",
       "</tr>\n",
       "<tr>\n",
       "  <th>Time:</th>                 <td>18:39:17</td>     <th>  Log-Likelihood:    </th> <td> -47440.</td> \n",
       "</tr>\n",
       "<tr>\n",
       "  <th>No. Observations:</th>      <td>  6259</td>      <th>  AIC:               </th> <td>9.489e+04</td>\n",
       "</tr>\n",
       "<tr>\n",
       "  <th>Df Residuals:</th>          <td>  6255</td>      <th>  BIC:               </th> <td>9.491e+04</td>\n",
       "</tr>\n",
       "<tr>\n",
       "  <th>Df Model:</th>              <td>     4</td>      <th>                     </th>     <td> </td>    \n",
       "</tr>\n",
       "<tr>\n",
       "  <th>Covariance Type:</th>      <td>nonrobust</td>    <th>                     </th>     <td> </td>    \n",
       "</tr>\n",
       "</table>\n",
       "<table class=\"simpletable\">\n",
       "<tr>\n",
       "      <td></td>         <th>coef</th>     <th>std err</th>      <th>t</th>      <th>P>|t|</th>  <th>[0.025</th>    <th>0.975]</th>  \n",
       "</tr>\n",
       "<tr>\n",
       "  <th>hd_binary</th> <td>  295.7611</td> <td>   17.767</td> <td>   16.647</td> <td> 0.000</td> <td>  260.932</td> <td>  330.590</td>\n",
       "</tr>\n",
       "<tr>\n",
       "  <th>ram</th>       <td>   68.0102</td> <td>    1.154</td> <td>   58.949</td> <td> 0.000</td> <td>   65.749</td> <td>   70.272</td>\n",
       "</tr>\n",
       "<tr>\n",
       "  <th>speed</th>     <td>   10.4407</td> <td>    0.259</td> <td>   40.250</td> <td> 0.000</td> <td>    9.932</td> <td>   10.949</td>\n",
       "</tr>\n",
       "<tr>\n",
       "  <th>ads</th>       <td>    3.6956</td> <td>    0.055</td> <td>   66.745</td> <td> 0.000</td> <td>    3.587</td> <td>    3.804</td>\n",
       "</tr>\n",
       "</table>\n",
       "<table class=\"simpletable\">\n",
       "<tr>\n",
       "  <th>Omnibus:</th>       <td>1190.781</td> <th>  Durbin-Watson:     </th> <td>   0.970</td>\n",
       "</tr>\n",
       "<tr>\n",
       "  <th>Prob(Omnibus):</th>  <td> 0.000</td>  <th>  Jarque-Bera (JB):  </th> <td>2410.629</td>\n",
       "</tr>\n",
       "<tr>\n",
       "  <th>Skew:</th>           <td> 1.135</td>  <th>  Prob(JB):          </th> <td>    0.00</td>\n",
       "</tr>\n",
       "<tr>\n",
       "  <th>Kurtosis:</th>       <td> 5.023</td>  <th>  Cond. No.          </th> <td>    708.</td>\n",
       "</tr>\n",
       "</table><br/><br/>Warnings:<br/>[1] Standard Errors assume that the covariance matrix of the errors is correctly specified."
      ],
      "text/plain": [
       "<class 'statsmodels.iolib.summary.Summary'>\n",
       "\"\"\"\n",
       "                            OLS Regression Results                            \n",
       "==============================================================================\n",
       "Dep. Variable:                  price   R-squared:                       0.957\n",
       "Model:                            OLS   Adj. R-squared:                  0.957\n",
       "Method:                 Least Squares   F-statistic:                 3.512e+04\n",
       "Date:                Mon, 25 Feb 2019   Prob (F-statistic):               0.00\n",
       "Time:                        18:39:17   Log-Likelihood:                -47440.\n",
       "No. Observations:                6259   AIC:                         9.489e+04\n",
       "Df Residuals:                    6255   BIC:                         9.491e+04\n",
       "Df Model:                           4                                         \n",
       "Covariance Type:            nonrobust                                         \n",
       "==============================================================================\n",
       "                 coef    std err          t      P>|t|      [0.025      0.975]\n",
       "------------------------------------------------------------------------------\n",
       "hd_binary    295.7611     17.767     16.647      0.000     260.932     330.590\n",
       "ram           68.0102      1.154     58.949      0.000      65.749      70.272\n",
       "speed         10.4407      0.259     40.250      0.000       9.932      10.949\n",
       "ads            3.6956      0.055     66.745      0.000       3.587       3.804\n",
       "==============================================================================\n",
       "Omnibus:                     1190.781   Durbin-Watson:                   0.970\n",
       "Prob(Omnibus):                  0.000   Jarque-Bera (JB):             2410.629\n",
       "Skew:                           1.135   Prob(JB):                         0.00\n",
       "Kurtosis:                       5.023   Cond. No.                         708.\n",
       "==============================================================================\n",
       "\n",
       "Warnings:\n",
       "[1] Standard Errors assume that the covariance matrix of the errors is correctly specified.\n",
       "\"\"\""
      ]
     },
     "execution_count": 44,
     "metadata": {},
     "output_type": "execute_result"
    }
   ],
   "source": [
    "model.summary()"
   ]
  },
  {
   "cell_type": "markdown",
   "metadata": {},
   "source": [
    "In the model, the value of R square is almost same while the value of AIC and BIC have increased, therefore we can assume this model might be better than model 1 but not model 2"
   ]
  },
  {
   "cell_type": "markdown",
   "metadata": {},
   "source": [
    "Performing Linear Regression on Model 3"
   ]
  },
  {
   "cell_type": "code",
   "execution_count": 45,
   "metadata": {},
   "outputs": [],
   "source": [
    "train, test = train_test_split(df, test_size=0.3, shuffle=True)\n",
    "training_features = ['hd_binary','ram','ads','cd']\n",
    "target = 'price'\n",
    "train_X = train[training_features]\n",
    "train_Y = train[target]\n",
    "test_X = test[training_features]\n",
    "test_Y = test[target]"
   ]
  },
  {
   "cell_type": "code",
   "execution_count": null,
   "metadata": {},
   "outputs": [],
   "source": []
  },
  {
   "cell_type": "code",
   "execution_count": 46,
   "metadata": {},
   "outputs": [
    {
     "name": "stdout",
     "output_type": "stream",
     "text": [
      "rmse_train: 446.39098846203075 msle_train: 0.039045927657518985\n",
      "rmse_test: 415.6166814406694 msle_test: 0.036837219109204115\n"
     ]
    }
   ],
   "source": [
    "model = LinearRegression()\n",
    "model.fit(train_X, train_Y)\n",
    "train_pred_Y = model.predict(train_X)\n",
    "test_pred_Y = model.predict(test_X)\n",
    "train_pred_Y = pd.Series(train_pred_Y.clip(0, train_pred_Y.max()), index=train_Y.index)\n",
    "test_pred_Y = pd.Series(test_pred_Y.clip(0, test_pred_Y.max()), index=test_Y.index)\n",
    "\n",
    "rmse_train = np.sqrt(mean_squared_error(train_pred_Y, train_Y))\n",
    "msle_train = mean_squared_log_error(train_pred_Y, train_Y)\n",
    "rmse_test = np.sqrt(mean_squared_error(test_pred_Y, test_Y))\n",
    "msle_test = mean_squared_log_error(test_pred_Y, test_Y)\n",
    "\n",
    "print('rmse_train:',rmse_train,'msle_train:',msle_train)\n",
    "print('rmse_test:',rmse_test,'msle_test:',msle_test)"
   ]
  },
  {
   "cell_type": "markdown",
   "metadata": {},
   "source": [
    "Third model has RMSE value more than model 2."
   ]
  },
  {
   "cell_type": "markdown",
   "metadata": {},
   "source": [
    "Cross Validating Model 3"
   ]
  },
  {
   "cell_type": "code",
   "execution_count": 47,
   "metadata": {},
   "outputs": [],
   "source": [
    "cols_to_use=['hd_binary','cd','ram','speed','ads']\n",
    "X=df[cols_to_use]\n",
    "y=df.price"
   ]
  },
  {
   "cell_type": "code",
   "execution_count": 48,
   "metadata": {},
   "outputs": [],
   "source": [
    "my_pipeline = make_pipeline(Imputer(), RandomForestRegressor())"
   ]
  },
  {
   "cell_type": "code",
   "execution_count": 49,
   "metadata": {},
   "outputs": [
    {
     "name": "stdout",
     "output_type": "stream",
     "text": [
      "[-521.82049121 -374.75811018 -838.85903179]\n"
     ]
    }
   ],
   "source": [
    "scores = cross_val_score(my_pipeline, X, y, scoring='neg_mean_absolute_error')\n",
    "print(scores)"
   ]
  },
  {
   "cell_type": "code",
   "execution_count": 50,
   "metadata": {},
   "outputs": [
    {
     "name": "stdout",
     "output_type": "stream",
     "text": [
      "Mean Absolute Error 578.479211\n"
     ]
    }
   ],
   "source": [
    "print('Mean Absolute Error %2f' %(-1 * scores.mean()))"
   ]
  },
  {
   "cell_type": "markdown",
   "metadata": {},
   "source": [
    "In all the above models we found that the best fit model is model is model 2. This is because its adjusted R square value is maximum and RMSE is minimum. Also when we cross validated the model, the least mean error was found to be in model 2."
   ]
  },
  {
   "cell_type": "markdown",
   "metadata": {},
   "source": [
    "## Interaction Effects\n"
   ]
  },
  {
   "cell_type": "markdown",
   "metadata": {},
   "source": [
    "1. Interacting ads and cd"
   ]
  },
  {
   "cell_type": "code",
   "execution_count": 51,
   "metadata": {},
   "outputs": [
    {
     "data": {
      "text/html": [
       "<table class=\"simpletable\">\n",
       "<caption>OLS Regression Results</caption>\n",
       "<tr>\n",
       "  <th>Dep. Variable:</th>          <td>price</td>      <th>  R-squared:         </th> <td>   0.938</td> \n",
       "</tr>\n",
       "<tr>\n",
       "  <th>Model:</th>                   <td>OLS</td>       <th>  Adj. R-squared:    </th> <td>   0.938</td> \n",
       "</tr>\n",
       "<tr>\n",
       "  <th>Method:</th>             <td>Least Squares</td>  <th>  F-statistic:       </th> <td>1.903e+04</td>\n",
       "</tr>\n",
       "<tr>\n",
       "  <th>Date:</th>             <td>Mon, 25 Feb 2019</td> <th>  Prob (F-statistic):</th>  <td>  0.00</td>  \n",
       "</tr>\n",
       "<tr>\n",
       "  <th>Time:</th>                 <td>18:39:18</td>     <th>  Log-Likelihood:    </th> <td> -48595.</td> \n",
       "</tr>\n",
       "<tr>\n",
       "  <th>No. Observations:</th>      <td>  6259</td>      <th>  AIC:               </th> <td>9.720e+04</td>\n",
       "</tr>\n",
       "<tr>\n",
       "  <th>Df Residuals:</th>          <td>  6254</td>      <th>  BIC:               </th> <td>9.723e+04</td>\n",
       "</tr>\n",
       "<tr>\n",
       "  <th>Df Model:</th>              <td>     5</td>      <th>                     </th>     <td> </td>    \n",
       "</tr>\n",
       "<tr>\n",
       "  <th>Covariance Type:</th>      <td>nonrobust</td>    <th>                     </th>     <td> </td>    \n",
       "</tr>\n",
       "</table>\n",
       "<table class=\"simpletable\">\n",
       "<tr>\n",
       "      <td></td>         <th>coef</th>     <th>std err</th>      <th>t</th>      <th>P>|t|</th>  <th>[0.025</th>    <th>0.975]</th>  \n",
       "</tr>\n",
       "<tr>\n",
       "  <th>hd_binary</th> <td>  738.3071</td> <td>   19.440</td> <td>   37.979</td> <td> 0.000</td> <td>  700.198</td> <td>  776.416</td>\n",
       "</tr>\n",
       "<tr>\n",
       "  <th>cd</th>        <td>-1233.3961</td> <td>   36.481</td> <td>  -33.809</td> <td> 0.000</td> <td>-1304.912</td> <td>-1161.880</td>\n",
       "</tr>\n",
       "<tr>\n",
       "  <th>ram</th>       <td>   80.9257</td> <td>    1.510</td> <td>   53.583</td> <td> 0.000</td> <td>   77.965</td> <td>   83.886</td>\n",
       "</tr>\n",
       "<tr>\n",
       "  <th>speed</th>     <td>   17.7347</td> <td>    0.300</td> <td>   59.205</td> <td> 0.000</td> <td>   17.147</td> <td>   18.322</td>\n",
       "</tr>\n",
       "<tr>\n",
       "  <th>ads:cd</th>    <td>    4.4513</td> <td>    0.142</td> <td>   31.260</td> <td> 0.000</td> <td>    4.172</td> <td>    4.730</td>\n",
       "</tr>\n",
       "</table>\n",
       "<table class=\"simpletable\">\n",
       "<tr>\n",
       "  <th>Omnibus:</th>       <td>69.798</td> <th>  Durbin-Watson:     </th> <td>   1.217</td>\n",
       "</tr>\n",
       "<tr>\n",
       "  <th>Prob(Omnibus):</th> <td> 0.000</td> <th>  Jarque-Bera (JB):  </th> <td>  73.624</td>\n",
       "</tr>\n",
       "<tr>\n",
       "  <th>Skew:</th>          <td> 0.239</td> <th>  Prob(JB):          </th> <td>1.03e-16</td>\n",
       "</tr>\n",
       "<tr>\n",
       "  <th>Kurtosis:</th>      <td> 3.231</td> <th>  Cond. No.          </th> <td>    817.</td>\n",
       "</tr>\n",
       "</table><br/><br/>Warnings:<br/>[1] Standard Errors assume that the covariance matrix of the errors is correctly specified."
      ],
      "text/plain": [
       "<class 'statsmodels.iolib.summary.Summary'>\n",
       "\"\"\"\n",
       "                            OLS Regression Results                            \n",
       "==============================================================================\n",
       "Dep. Variable:                  price   R-squared:                       0.938\n",
       "Model:                            OLS   Adj. R-squared:                  0.938\n",
       "Method:                 Least Squares   F-statistic:                 1.903e+04\n",
       "Date:                Mon, 25 Feb 2019   Prob (F-statistic):               0.00\n",
       "Time:                        18:39:18   Log-Likelihood:                -48595.\n",
       "No. Observations:                6259   AIC:                         9.720e+04\n",
       "Df Residuals:                    6254   BIC:                         9.723e+04\n",
       "Df Model:                           5                                         \n",
       "Covariance Type:            nonrobust                                         \n",
       "==============================================================================\n",
       "                 coef    std err          t      P>|t|      [0.025      0.975]\n",
       "------------------------------------------------------------------------------\n",
       "hd_binary    738.3071     19.440     37.979      0.000     700.198     776.416\n",
       "cd         -1233.3961     36.481    -33.809      0.000   -1304.912   -1161.880\n",
       "ram           80.9257      1.510     53.583      0.000      77.965      83.886\n",
       "speed         17.7347      0.300     59.205      0.000      17.147      18.322\n",
       "ads:cd         4.4513      0.142     31.260      0.000       4.172       4.730\n",
       "==============================================================================\n",
       "Omnibus:                       69.798   Durbin-Watson:                   1.217\n",
       "Prob(Omnibus):                  0.000   Jarque-Bera (JB):               73.624\n",
       "Skew:                           0.239   Prob(JB):                     1.03e-16\n",
       "Kurtosis:                       3.231   Cond. No.                         817.\n",
       "==============================================================================\n",
       "\n",
       "Warnings:\n",
       "[1] Standard Errors assume that the covariance matrix of the errors is correctly specified.\n",
       "\"\"\""
      ]
     },
     "execution_count": 51,
     "metadata": {},
     "output_type": "execute_result"
    }
   ],
   "source": [
    "ads_cd_model_A = ols(\"price ~ hd_binary + cd + ram + speed + ads : cd -1\", data=df).fit()\n",
    "ads_cd_model_A.summary()"
   ]
  },
  {
   "cell_type": "markdown",
   "metadata": {},
   "source": [
    "There is a slight decrease in the adjusted Rsquare when we have done the interaction between ads and cd. Also AIC and BIC have also reduced. This shows that the combined effect of ads and cd has not improved our model."
   ]
  },
  {
   "cell_type": "markdown",
   "metadata": {},
   "source": [
    "2. Interacting ram and hd_binary\n"
   ]
  },
  {
   "cell_type": "code",
   "execution_count": 52,
   "metadata": {},
   "outputs": [
    {
     "data": {
      "text/html": [
       "<table class=\"simpletable\">\n",
       "<caption>OLS Regression Results</caption>\n",
       "<tr>\n",
       "  <th>Dep. Variable:</th>          <td>price</td>      <th>  R-squared:         </th> <td>   0.958</td> \n",
       "</tr>\n",
       "<tr>\n",
       "  <th>Model:</th>                   <td>OLS</td>       <th>  Adj. R-squared:    </th> <td>   0.958</td> \n",
       "</tr>\n",
       "<tr>\n",
       "  <th>Method:</th>             <td>Least Squares</td>  <th>  F-statistic:       </th> <td>2.855e+04</td>\n",
       "</tr>\n",
       "<tr>\n",
       "  <th>Date:</th>             <td>Mon, 25 Feb 2019</td> <th>  Prob (F-statistic):</th>  <td>  0.00</td>  \n",
       "</tr>\n",
       "<tr>\n",
       "  <th>Time:</th>                 <td>18:39:18</td>     <th>  Log-Likelihood:    </th> <td> -47391.</td> \n",
       "</tr>\n",
       "<tr>\n",
       "  <th>No. Observations:</th>      <td>  6259</td>      <th>  AIC:               </th> <td>9.479e+04</td>\n",
       "</tr>\n",
       "<tr>\n",
       "  <th>Df Residuals:</th>          <td>  6254</td>      <th>  BIC:               </th> <td>9.483e+04</td>\n",
       "</tr>\n",
       "<tr>\n",
       "  <th>Df Model:</th>              <td>     5</td>      <th>                     </th>     <td> </td>    \n",
       "</tr>\n",
       "<tr>\n",
       "  <th>Covariance Type:</th>      <td>nonrobust</td>    <th>                     </th>     <td> </td>    \n",
       "</tr>\n",
       "</table>\n",
       "<table class=\"simpletable\">\n",
       "<tr>\n",
       "        <td></td>           <th>coef</th>     <th>std err</th>      <th>t</th>      <th>P>|t|</th>  <th>[0.025</th>    <th>0.975]</th>  \n",
       "</tr>\n",
       "<tr>\n",
       "  <th>hd_binary</th>     <td> 1412.7767</td> <td>   18.160</td> <td>   77.794</td> <td> 0.000</td> <td> 1377.176</td> <td> 1448.377</td>\n",
       "</tr>\n",
       "<tr>\n",
       "  <th>cd</th>            <td> -164.7383</td> <td>   13.506</td> <td>  -12.198</td> <td> 0.000</td> <td> -191.214</td> <td> -138.262</td>\n",
       "</tr>\n",
       "<tr>\n",
       "  <th>ram</th>           <td>  424.0430</td> <td>    5.452</td> <td>   77.780</td> <td> 0.000</td> <td>  413.355</td> <td>  434.730</td>\n",
       "</tr>\n",
       "<tr>\n",
       "  <th>speed</th>         <td>    7.4066</td> <td>    0.284</td> <td>   26.071</td> <td> 0.000</td> <td>    6.850</td> <td>    7.964</td>\n",
       "</tr>\n",
       "<tr>\n",
       "  <th>hd_binary:ram</th> <td> -362.3021</td> <td>    5.480</td> <td>  -66.111</td> <td> 0.000</td> <td> -373.045</td> <td> -351.559</td>\n",
       "</tr>\n",
       "</table>\n",
       "<table class=\"simpletable\">\n",
       "<tr>\n",
       "  <th>Omnibus:</th>       <td>515.343</td> <th>  Durbin-Watson:     </th> <td>   1.366</td> \n",
       "</tr>\n",
       "<tr>\n",
       "  <th>Prob(Omnibus):</th> <td> 0.000</td>  <th>  Jarque-Bera (JB):  </th> <td> 899.458</td> \n",
       "</tr>\n",
       "<tr>\n",
       "  <th>Skew:</th>          <td> 0.596</td>  <th>  Prob(JB):          </th> <td>4.84e-196</td>\n",
       "</tr>\n",
       "<tr>\n",
       "  <th>Kurtosis:</th>      <td> 4.424</td>  <th>  Cond. No.          </th> <td>    179.</td> \n",
       "</tr>\n",
       "</table><br/><br/>Warnings:<br/>[1] Standard Errors assume that the covariance matrix of the errors is correctly specified."
      ],
      "text/plain": [
       "<class 'statsmodels.iolib.summary.Summary'>\n",
       "\"\"\"\n",
       "                            OLS Regression Results                            \n",
       "==============================================================================\n",
       "Dep. Variable:                  price   R-squared:                       0.958\n",
       "Model:                            OLS   Adj. R-squared:                  0.958\n",
       "Method:                 Least Squares   F-statistic:                 2.855e+04\n",
       "Date:                Mon, 25 Feb 2019   Prob (F-statistic):               0.00\n",
       "Time:                        18:39:18   Log-Likelihood:                -47391.\n",
       "No. Observations:                6259   AIC:                         9.479e+04\n",
       "Df Residuals:                    6254   BIC:                         9.483e+04\n",
       "Df Model:                           5                                         \n",
       "Covariance Type:            nonrobust                                         \n",
       "=================================================================================\n",
       "                    coef    std err          t      P>|t|      [0.025      0.975]\n",
       "---------------------------------------------------------------------------------\n",
       "hd_binary      1412.7767     18.160     77.794      0.000    1377.176    1448.377\n",
       "cd             -164.7383     13.506    -12.198      0.000    -191.214    -138.262\n",
       "ram             424.0430      5.452     77.780      0.000     413.355     434.730\n",
       "speed             7.4066      0.284     26.071      0.000       6.850       7.964\n",
       "hd_binary:ram  -362.3021      5.480    -66.111      0.000    -373.045    -351.559\n",
       "==============================================================================\n",
       "Omnibus:                      515.343   Durbin-Watson:                   1.366\n",
       "Prob(Omnibus):                  0.000   Jarque-Bera (JB):              899.458\n",
       "Skew:                           0.596   Prob(JB):                    4.84e-196\n",
       "Kurtosis:                       4.424   Cond. No.                         179.\n",
       "==============================================================================\n",
       "\n",
       "Warnings:\n",
       "[1] Standard Errors assume that the covariance matrix of the errors is correctly specified.\n",
       "\"\"\""
      ]
     },
     "execution_count": 52,
     "metadata": {},
     "output_type": "execute_result"
    }
   ],
   "source": [
    "hd_binary_ram_model_B = ols(\"price ~ hd_binary + cd + ram + speed + hd_binary : ram -1\", data=df).fit()\n",
    "hd_binary_ram_model_B.summary()"
   ]
  },
  {
   "cell_type": "markdown",
   "metadata": {},
   "source": [
    "This result that the interaction of ram and hd_binary has lesser effect on price on computer as compared to that of its individual effect. Also the t statistics is very low. Therefore we can assume that combined effect is not successful"
   ]
  },
  {
   "cell_type": "markdown",
   "metadata": {},
   "source": [
    "## Regularization on Model 2"
   ]
  },
  {
   "cell_type": "code",
   "execution_count": 53,
   "metadata": {},
   "outputs": [
    {
     "name": "stdout",
     "output_type": "stream",
     "text": [
      "[2985.71698793 1374.05695962 2671.05014202 ... 1802.91737798 1922.03052666\n",
      " 2599.37388355]\n"
     ]
    }
   ],
   "source": [
    "train, test = train_test_split(df, test_size=0.3, shuffle=True)\n",
    "training_features = ['hd_binary','cd','ram','speed','ads']\n",
    "target = 'price'\n",
    "train_X = train[training_features]\n",
    "train_Y = train[target]\n",
    "test_X = test[training_features]\n",
    "test_Y = test[target]\n",
    "xT = np.transpose(train_X)\n",
    "multMat = np.dot(xT, train_X)\n",
    "lam = 0.15\n",
    "iden = lam*np.identity(len(multMat), dtype=float)\n",
    "addedMat = multMat + iden\n",
    "invMat = np.linalg.inv(addedMat)\n",
    "multMat2= np.dot(invMat, xT)\n",
    "wMat= np.dot(multMat2, train_Y)\n",
    "train_pred_Y=np.dot(train_X,wMat)\n",
    "test_pred_Y=np.dot(test_X,wMat)    \n",
    "print(train_pred_Y)\n",
    "#calcMSE(wMat, numFeatures)"
   ]
  },
  {
   "cell_type": "code",
   "execution_count": 54,
   "metadata": {},
   "outputs": [
    {
     "name": "stdout",
     "output_type": "stream",
     "text": [
      "rmse_train: 470.91074206728734 msle_train: 0.04918816674597808\n",
      "rmse_test: 450.5516696927361 msle_test: 0.048059784918440845\n"
     ]
    }
   ],
   "source": [
    "rmse_train = np.sqrt(mean_squared_error(train_pred_Y, train_Y))\n",
    "msle_train = mean_squared_log_error(train_pred_Y, train_Y)\n",
    "rmse_test = np.sqrt(mean_squared_error(test_pred_Y, test_Y))\n",
    "msle_test = mean_squared_log_error(test_pred_Y, test_Y)\n",
    "\n",
    "print('rmse_train:',rmse_train,'msle_train:',msle_train)\n",
    "print('rmse_test:',rmse_test,'msle_test:',msle_test)"
   ]
  },
  {
   "cell_type": "markdown",
   "metadata": {},
   "source": [
    "# Logistic Regression\n"
   ]
  },
  {
   "cell_type": "markdown",
   "metadata": {},
   "source": [
    "Checking Model Assumptions"
   ]
  },
  {
   "cell_type": "code",
   "execution_count": 55,
   "metadata": {},
   "outputs": [],
   "source": [
    "%matplotlib inline\n",
    "rcParams['figure.figsize']=5,4\n",
    "sns.set_style(('whitegrid'))"
   ]
  },
  {
   "cell_type": "code",
   "execution_count": 56,
   "metadata": {},
   "outputs": [
    {
     "data": {
      "text/html": [
       "<div>\n",
       "<style scoped>\n",
       "    .dataframe tbody tr th:only-of-type {\n",
       "        vertical-align: middle;\n",
       "    }\n",
       "\n",
       "    .dataframe tbody tr th {\n",
       "        vertical-align: top;\n",
       "    }\n",
       "\n",
       "    .dataframe thead th {\n",
       "        text-align: right;\n",
       "    }\n",
       "</style>\n",
       "<table border=\"1\" class=\"dataframe\">\n",
       "  <thead>\n",
       "    <tr style=\"text-align: right;\">\n",
       "      <th></th>\n",
       "      <th>S.No.</th>\n",
       "      <th>price</th>\n",
       "      <th>speed</th>\n",
       "      <th>ram</th>\n",
       "      <th>cd</th>\n",
       "      <th>premium</th>\n",
       "      <th>ads</th>\n",
       "      <th>screen_14</th>\n",
       "      <th>screen_15</th>\n",
       "      <th>screen_17</th>\n",
       "      <th>hd_binary</th>\n",
       "    </tr>\n",
       "  </thead>\n",
       "  <tbody>\n",
       "    <tr>\n",
       "      <th>0</th>\n",
       "      <td>1</td>\n",
       "      <td>1499</td>\n",
       "      <td>25</td>\n",
       "      <td>4</td>\n",
       "      <td>0</td>\n",
       "      <td>1</td>\n",
       "      <td>94</td>\n",
       "      <td>1</td>\n",
       "      <td>0</td>\n",
       "      <td>0</td>\n",
       "      <td>0</td>\n",
       "    </tr>\n",
       "    <tr>\n",
       "      <th>1</th>\n",
       "      <td>2</td>\n",
       "      <td>1795</td>\n",
       "      <td>33</td>\n",
       "      <td>2</td>\n",
       "      <td>0</td>\n",
       "      <td>1</td>\n",
       "      <td>94</td>\n",
       "      <td>1</td>\n",
       "      <td>0</td>\n",
       "      <td>0</td>\n",
       "      <td>0</td>\n",
       "    </tr>\n",
       "    <tr>\n",
       "      <th>2</th>\n",
       "      <td>3</td>\n",
       "      <td>1595</td>\n",
       "      <td>25</td>\n",
       "      <td>4</td>\n",
       "      <td>0</td>\n",
       "      <td>1</td>\n",
       "      <td>94</td>\n",
       "      <td>0</td>\n",
       "      <td>1</td>\n",
       "      <td>0</td>\n",
       "      <td>0</td>\n",
       "    </tr>\n",
       "    <tr>\n",
       "      <th>3</th>\n",
       "      <td>4</td>\n",
       "      <td>1849</td>\n",
       "      <td>25</td>\n",
       "      <td>8</td>\n",
       "      <td>0</td>\n",
       "      <td>0</td>\n",
       "      <td>94</td>\n",
       "      <td>1</td>\n",
       "      <td>0</td>\n",
       "      <td>0</td>\n",
       "      <td>0</td>\n",
       "    </tr>\n",
       "    <tr>\n",
       "      <th>4</th>\n",
       "      <td>5</td>\n",
       "      <td>3295</td>\n",
       "      <td>33</td>\n",
       "      <td>16</td>\n",
       "      <td>0</td>\n",
       "      <td>1</td>\n",
       "      <td>94</td>\n",
       "      <td>1</td>\n",
       "      <td>0</td>\n",
       "      <td>0</td>\n",
       "      <td>1</td>\n",
       "    </tr>\n",
       "  </tbody>\n",
       "</table>\n",
       "</div>"
      ],
      "text/plain": [
       "   S.No.  price  speed  ram  cd  premium  ads  screen_14  screen_15  \\\n",
       "0      1   1499     25    4   0        1   94          1          0   \n",
       "1      2   1795     33    2   0        1   94          1          0   \n",
       "2      3   1595     25    4   0        1   94          0          1   \n",
       "3      4   1849     25    8   0        0   94          1          0   \n",
       "4      5   3295     33   16   0        1   94          1          0   \n",
       "\n",
       "   screen_17  hd_binary  \n",
       "0          0          0  \n",
       "1          0          0  \n",
       "2          0          0  \n",
       "3          0          0  \n",
       "4          0          1  "
      ]
     },
     "execution_count": 56,
     "metadata": {},
     "output_type": "execute_result"
    }
   ],
   "source": [
    "\n",
    "df.head()"
   ]
  },
  {
   "cell_type": "code",
   "execution_count": 57,
   "metadata": {},
   "outputs": [
    {
     "data": {
      "text/plain": [
       "<matplotlib.axes._subplots.AxesSubplot at 0x21ccf52d908>"
      ]
     },
     "execution_count": 57,
     "metadata": {},
     "output_type": "execute_result"
    },
    {
     "data": {
      "image/png": "[encoded data removed]",
      "text/plain": [
       "<Figure size 360x288 with 1 Axes>"
      ]
     },
     "metadata": {},
     "output_type": "display_data"
    }
   ],
   "source": [
    "sns.regplot(x='hd_binary',y='premium', data=df, scatter=True)"
   ]
  },
  {
   "cell_type": "code",
   "execution_count": 58,
   "metadata": {},
   "outputs": [
    {
     "data": {
      "text/plain": [
       "<matplotlib.axes._subplots.AxesSubplot at 0x21ccf5843c8>"
      ]
     },
     "execution_count": 58,
     "metadata": {},
     "output_type": "execute_result"
    },
    {
     "data": {
      "image/png": "[encoded data removed]",
      "text/plain": [
       "<Figure size 360x288 with 1 Axes>"
      ]
     },
     "metadata": {},
     "output_type": "display_data"
    }
   ],
   "source": [
    "sns.regplot(x='cd',y='premium', data=df, scatter=True)"
   ]
  },
  {
   "cell_type": "code",
   "execution_count": 59,
   "metadata": {},
   "outputs": [
    {
     "data": {
      "text/html": [
       "<div>\n",
       "<style scoped>\n",
       "    .dataframe tbody tr th:only-of-type {\n",
       "        vertical-align: middle;\n",
       "    }\n",
       "\n",
       "    .dataframe tbody tr th {\n",
       "        vertical-align: top;\n",
       "    }\n",
       "\n",
       "    .dataframe thead th {\n",
       "        text-align: right;\n",
       "    }\n",
       "</style>\n",
       "<table border=\"1\" class=\"dataframe\">\n",
       "  <thead>\n",
       "    <tr style=\"text-align: right;\">\n",
       "      <th></th>\n",
       "      <th>S.No.</th>\n",
       "      <th>price</th>\n",
       "      <th>speed</th>\n",
       "      <th>ram</th>\n",
       "      <th>cd</th>\n",
       "      <th>premium</th>\n",
       "      <th>ads</th>\n",
       "      <th>screen_14</th>\n",
       "      <th>screen_15</th>\n",
       "      <th>screen_17</th>\n",
       "      <th>hd_binary</th>\n",
       "    </tr>\n",
       "  </thead>\n",
       "  <tbody>\n",
       "    <tr>\n",
       "      <th>0</th>\n",
       "      <td>1</td>\n",
       "      <td>1499</td>\n",
       "      <td>25</td>\n",
       "      <td>4</td>\n",
       "      <td>0</td>\n",
       "      <td>1</td>\n",
       "      <td>94</td>\n",
       "      <td>1</td>\n",
       "      <td>0</td>\n",
       "      <td>0</td>\n",
       "      <td>0</td>\n",
       "    </tr>\n",
       "    <tr>\n",
       "      <th>1</th>\n",
       "      <td>2</td>\n",
       "      <td>1795</td>\n",
       "      <td>33</td>\n",
       "      <td>2</td>\n",
       "      <td>0</td>\n",
       "      <td>1</td>\n",
       "      <td>94</td>\n",
       "      <td>1</td>\n",
       "      <td>0</td>\n",
       "      <td>0</td>\n",
       "      <td>0</td>\n",
       "    </tr>\n",
       "    <tr>\n",
       "      <th>2</th>\n",
       "      <td>3</td>\n",
       "      <td>1595</td>\n",
       "      <td>25</td>\n",
       "      <td>4</td>\n",
       "      <td>0</td>\n",
       "      <td>1</td>\n",
       "      <td>94</td>\n",
       "      <td>0</td>\n",
       "      <td>1</td>\n",
       "      <td>0</td>\n",
       "      <td>0</td>\n",
       "    </tr>\n",
       "    <tr>\n",
       "      <th>3</th>\n",
       "      <td>4</td>\n",
       "      <td>1849</td>\n",
       "      <td>25</td>\n",
       "      <td>8</td>\n",
       "      <td>0</td>\n",
       "      <td>0</td>\n",
       "      <td>94</td>\n",
       "      <td>1</td>\n",
       "      <td>0</td>\n",
       "      <td>0</td>\n",
       "      <td>0</td>\n",
       "    </tr>\n",
       "    <tr>\n",
       "      <th>4</th>\n",
       "      <td>5</td>\n",
       "      <td>3295</td>\n",
       "      <td>33</td>\n",
       "      <td>16</td>\n",
       "      <td>0</td>\n",
       "      <td>1</td>\n",
       "      <td>94</td>\n",
       "      <td>1</td>\n",
       "      <td>0</td>\n",
       "      <td>0</td>\n",
       "      <td>1</td>\n",
       "    </tr>\n",
       "  </tbody>\n",
       "</table>\n",
       "</div>"
      ],
      "text/plain": [
       "   S.No.  price  speed  ram  cd  premium  ads  screen_14  screen_15  \\\n",
       "0      1   1499     25    4   0        1   94          1          0   \n",
       "1      2   1795     33    2   0        1   94          1          0   \n",
       "2      3   1595     25    4   0        1   94          0          1   \n",
       "3      4   1849     25    8   0        0   94          1          0   \n",
       "4      5   3295     33   16   0        1   94          1          0   \n",
       "\n",
       "   screen_17  hd_binary  \n",
       "0          0          0  \n",
       "1          0          0  \n",
       "2          0          0  \n",
       "3          0          0  \n",
       "4          0          1  "
      ]
     },
     "execution_count": 59,
     "metadata": {},
     "output_type": "execute_result"
    }
   ],
   "source": [
    "df.head()"
   ]
  },
  {
   "cell_type": "code",
   "execution_count": 60,
   "metadata": {},
   "outputs": [
    {
     "data": {
      "text/plain": [
       "<matplotlib.axes._subplots.AxesSubplot at 0x21ccf5d24e0>"
      ]
     },
     "execution_count": 60,
     "metadata": {},
     "output_type": "execute_result"
    },
    {
     "data": {
      "image/png": "[encoded data removed]",
      "text/plain": [
       "<Figure size 360x288 with 1 Axes>"
      ]
     },
     "metadata": {},
     "output_type": "display_data"
    }
   ],
   "source": [
    "sns.regplot(x='speed',y='premium', data=df, scatter=True)"
   ]
  },
  {
   "cell_type": "markdown",
   "metadata": {},
   "source": [
    "## Model 1"
   ]
  },
  {
   "cell_type": "code",
   "execution_count": 61,
   "metadata": {},
   "outputs": [
    {
     "name": "stdout",
     "output_type": "stream",
     "text": [
      "0.9146828566863716\n"
     ]
    }
   ],
   "source": [
    "df_data=df.ix[:,(1,2,3,4,6,9)].values\n",
    "\n",
    "\n",
    "y=df.ix[:,(5)].values\n",
    "\n",
    "x=scale(df_data)\n",
    "\n",
    "LogReg=LogisticRegression()\n",
    "\n",
    "\n",
    "LogReg.fit(x,y)\n",
    "print (LogReg.score(x,y))\n",
    "\n"
   ]
  },
  {
   "cell_type": "code",
   "execution_count": 62,
   "metadata": {},
   "outputs": [
    {
     "name": "stdout",
     "output_type": "stream",
     "text": [
      "             precision    recall  f1-score   support\n",
      "\n",
      "          0       0.71      0.21      0.33       612\n",
      "          1       0.92      0.99      0.95      5647\n",
      "\n",
      "avg / total       0.90      0.91      0.89      6259\n",
      "\n"
     ]
    }
   ],
   "source": [
    "y_pred=LogReg.predict(x)\n",
    "from sklearn.metrics import classification_report\n",
    "\n",
    "print (classification_report(y,y_pred))"
   ]
  },
  {
   "cell_type": "code",
   "execution_count": 63,
   "metadata": {},
   "outputs": [],
   "source": [
    "cols_to_use=['hd_binary','cd','ram','speed','ads','price']\n",
    "X=df[cols_to_use]\n",
    "y=df.premium"
   ]
  },
  {
   "cell_type": "code",
   "execution_count": 64,
   "metadata": {},
   "outputs": [],
   "source": [
    "my_pipeline = make_pipeline(Imputer(), RandomForestRegressor())"
   ]
  },
  {
   "cell_type": "code",
   "execution_count": 65,
   "metadata": {},
   "outputs": [
    {
     "name": "stdout",
     "output_type": "stream",
     "text": [
      "[0.71451356 0.88995215 0.88658147 0.89776358 0.92172524 0.91373802\n",
      " 0.92172524 0.9296     0.9376     0.904     ]\n",
      "0.8917199256054745\n"
     ]
    }
   ],
   "source": [
    "scores = cross_val_score(LogisticRegression(), X, y, scoring='accuracy', cv=10)\n",
    "print (scores)\n",
    "print (scores.mean())"
   ]
  },
  {
   "cell_type": "markdown",
   "metadata": {},
   "source": [
    "## Model 2"
   ]
  },
  {
   "cell_type": "code",
   "execution_count": 66,
   "metadata": {},
   "outputs": [
    {
     "name": "stdout",
     "output_type": "stream",
     "text": [
      "0.6564946477073015\n"
     ]
    }
   ],
   "source": [
    "df_data=df.ix[:,(2,3,4,5)].values\n",
    "#df_data_names=['hd','speed','ram','screen','cd']\n",
    "\n",
    "y=df.ix[:,(7)].values\n",
    "\n",
    "x=scale(df_data)\n",
    "\n",
    "LogReg=LogisticRegression()\n",
    "\n",
    "\n",
    "LogReg.fit(x,y)\n",
    "print (LogReg.score(x,y))"
   ]
  },
  {
   "cell_type": "code",
   "execution_count": 67,
   "metadata": {},
   "outputs": [
    {
     "name": "stdout",
     "output_type": "stream",
     "text": [
      "             precision    recall  f1-score   support\n",
      "\n",
      "          0       0.64      0.39      0.48      2598\n",
      "          1       0.66      0.85      0.74      3661\n",
      "\n",
      "avg / total       0.65      0.66      0.64      6259\n",
      "\n"
     ]
    }
   ],
   "source": [
    "y_pred=LogReg.predict(x)\n",
    "from sklearn.metrics import classification_report\n",
    "\n",
    "print (classification_report(y,y_pred))"
   ]
  },
  {
   "cell_type": "code",
   "execution_count": 68,
   "metadata": {},
   "outputs": [],
   "source": [
    "cols_to_use=['ram','speed','ads','cd',]\n",
    "X=df[cols_to_use]\n",
    "y=df.premium"
   ]
  },
  {
   "cell_type": "code",
   "execution_count": 69,
   "metadata": {},
   "outputs": [],
   "source": [
    "my_pipeline = make_pipeline(Imputer(), RandomForestRegressor())"
   ]
  },
  {
   "cell_type": "code",
   "execution_count": 70,
   "metadata": {},
   "outputs": [
    {
     "name": "stdout",
     "output_type": "stream",
     "text": [
      "[0.90111643 0.90111643 0.90255591 0.90255591 0.90255591 0.90255591\n",
      " 0.90255591 0.9024     0.9024     0.9024    ]\n",
      "0.9022212407580088\n"
     ]
    }
   ],
   "source": [
    "scores = cross_val_score(LogisticRegression(), X, y, scoring='accuracy', cv=10)\n",
    "print (scores)\n",
    "print (scores.mean())"
   ]
  },
  {
   "cell_type": "markdown",
   "metadata": {},
   "source": [
    "## Model 3"
   ]
  },
  {
   "cell_type": "code",
   "execution_count": 71,
   "metadata": {},
   "outputs": [
    {
     "name": "stdout",
     "output_type": "stream",
     "text": [
      "0.9164403259306598\n"
     ]
    }
   ],
   "source": [
    "df_data=df.ix[:,(1,2,3,4,6)].values\n",
    "#df_data_names=['hd','speed','ram','screen','cd']\n",
    "\n",
    "y=df.ix[:,(5)].values\n",
    "\n",
    "x=scale(df_data)\n",
    "\n",
    "LogReg=LogisticRegression()\n",
    "\n",
    "\n",
    "LogReg.fit(x,y)\n",
    "print (LogReg.score(x,y))"
   ]
  },
  {
   "cell_type": "code",
   "execution_count": 72,
   "metadata": {},
   "outputs": [
    {
     "name": "stdout",
     "output_type": "stream",
     "text": [
      "             precision    recall  f1-score   support\n",
      "\n",
      "          0       0.74      0.22      0.34       612\n",
      "          1       0.92      0.99      0.96      5647\n",
      "\n",
      "avg / total       0.90      0.92      0.90      6259\n",
      "\n"
     ]
    }
   ],
   "source": [
    "y_pred=LogReg.predict(x)\n",
    "from sklearn.metrics import classification_report\n",
    "\n",
    "print (classification_report(y,y_pred))"
   ]
  },
  {
   "cell_type": "code",
   "execution_count": 73,
   "metadata": {},
   "outputs": [],
   "source": [
    "cols_to_use=['ram','speed','ads','cd','price']\n",
    "X=df[cols_to_use]\n",
    "y=df.premium"
   ]
  },
  {
   "cell_type": "code",
   "execution_count": 74,
   "metadata": {},
   "outputs": [],
   "source": [
    "my_pipeline = make_pipeline(Imputer(), RandomForestRegressor())"
   ]
  },
  {
   "cell_type": "code",
   "execution_count": 75,
   "metadata": {},
   "outputs": [
    {
     "name": "stdout",
     "output_type": "stream",
     "text": [
      "[0.64433812 0.88516746 0.89297125 0.90415335 0.92332268 0.90734824\n",
      " 0.92172524 0.9296     0.9344     0.904     ]\n",
      "0.8847026348910324\n"
     ]
    }
   ],
   "source": [
    "scores = cross_val_score(LogisticRegression(), X, y, scoring='accuracy', cv=10)\n",
    "print (scores)\n",
    "print (scores.mean())"
   ]
  },
  {
   "cell_type": "markdown",
   "metadata": {},
   "source": [
    "## Model 4"
   ]
  },
  {
   "cell_type": "code",
   "execution_count": 76,
   "metadata": {},
   "outputs": [
    {
     "name": "stdout",
     "output_type": "stream",
     "text": [
      "0.9162805559993609\n"
     ]
    }
   ],
   "source": [
    "df_data=df.ix[:,(1,2,3,6)].values\n",
    "\n",
    "y=df.ix[:,(5)].values\n",
    "\n",
    "x=scale(df_data)\n",
    "\n",
    "LogReg=LogisticRegression()\n",
    "\n",
    "\n",
    "LogReg.fit(x,y)\n",
    "print (LogReg.score(x,y))"
   ]
  },
  {
   "cell_type": "code",
   "execution_count": 77,
   "metadata": {},
   "outputs": [
    {
     "name": "stdout",
     "output_type": "stream",
     "text": [
      "             precision    recall  f1-score   support\n",
      "\n",
      "          0       0.76      0.21      0.33       612\n",
      "          1       0.92      0.99      0.96      5647\n",
      "\n",
      "avg / total       0.90      0.92      0.89      6259\n",
      "\n"
     ]
    }
   ],
   "source": [
    "y_pred=LogReg.predict(x)\n",
    "from sklearn.metrics import classification_report\n",
    "\n",
    "print (classification_report(y,y_pred))"
   ]
  },
  {
   "cell_type": "code",
   "execution_count": 78,
   "metadata": {},
   "outputs": [],
   "source": [
    "cols_to_use=['ram','speed','ads','price']\n",
    "X=df[cols_to_use]\n",
    "y=df.premium"
   ]
  },
  {
   "cell_type": "code",
   "execution_count": 79,
   "metadata": {},
   "outputs": [],
   "source": [
    "my_pipeline = make_pipeline(Imputer(), RandomForestRegressor())"
   ]
  },
  {
   "cell_type": "code",
   "execution_count": 80,
   "metadata": {},
   "outputs": [
    {
     "name": "stdout",
     "output_type": "stream",
     "text": [
      "[0.59489633 0.89633174 0.90255591 0.91214058 0.91853035 0.90734824\n",
      " 0.91693291 0.9216     0.928      0.904     ]\n",
      "0.8802336057395885\n"
     ]
    }
   ],
   "source": [
    "scores = cross_val_score(LogisticRegression(), X, y, scoring='accuracy', cv=10)\n",
    "print (scores)\n",
    "print (scores.mean())"
   ]
  },
  {
   "cell_type": "markdown",
   "metadata": {},
   "source": [
    "Out of all the 4 model, the fourth model is the best as all the models have similar precision but 4rth model has the highest recall."
   ]
  },
  {
   "cell_type": "markdown",
   "metadata": {},
   "source": [
    "# CONCLUSION\n",
    "\n",
    "In the logistic regression, we have predicted the prices of computer with independent predictors as Hard disk, ram, speed, screen size and ads. We made 3 models and performed OLS, Linear regression on it. Also we cross validated the model. On performing all the functions we found that best model was second model. This implies that best predictors for pricing of computers are Hard disk, speed, ads, cd and ram.\n",
    "\n",
    "After that we performed Logistic regression to assess whether system is premium or not. Again 3 models were cdreated and the best model was fourth model i.e price speed, ram and ads define whether the system is premium or not."
   ]
  },
  {
   "cell_type": "markdown",
   "metadata": {},
   "source": [
    "# CONTRIBUTION\n",
    "\n",
    "By Own: 30%\n",
    "\n",
    "Defined code for regularization, converting categorical to binary values and cross validation of logistic model.\n",
    "\n",
    "By external source: 70%"
   ]
  },
  {
   "cell_type": "markdown",
   "metadata": {},
   "source": [
    "# Citations:\n",
    "\n",
    "https://vincentarelbundock.github.io/Rdatasets/datasets.html\n",
    "\n",
    "https://github.com/nikbearbrown\n",
    "\n",
    "https://jakevdp.github.io/PythonDataScienceHandbook/05.03-hyperparameters-and-model-validation.html\n",
    "\n",
    "https://stackoverflow.com/questions/51672709/converting-no-and-yes-into-0-and-1-in-pandas-dataframe\n",
    "\n",
    "https://stackoverflow.com/questions/40901770/is-there-a-simple-way-to-change-a-column-of-yes-no-to-1-0-in-a-pandas-dataframe\n",
    "\n",
    "https://dziganto.github.io/data%20science/linear%20regression/machine%20learning/python/Linear-Regression-101-Assumptions-and-Evaluation/\n",
    "\n",
    "http://www.sthda.com/english/articles/36-classification-methods-essentials/148-logistic-regression-assumptions-and-diagnostics-in-r/\n",
    "\n",
    "https://scikit-learn.org/stable/modules/generated/sklearn.linear_model.LogisticRegression.html\n",
    "\n",
    "https://towardsdatascience.com/regularization-in-machine-learning-76441ddcf99a\n",
    "\n",
    "https://towardsdatascience.com/l1-and-l2-regularization-methods-ce25e7fc831c\n",
    "\n",
    "https://scikit-learn.org/stable/modules/cross_validation.html#cross-validation-and-model-selection\n",
    "\n",
    "https://www.youtube.com/watch?v=6dbrR-WymjI&feature=youtu.be\n"
   ]
  },
  {
   "cell_type": "markdown",
   "metadata": {},
   "source": [
    "# License\n",
    "Copyright 2019 Ashu Kapil\n",
    "\n",
    "Permission is hereby granted, free of charge, to any person obtaining a copy of this software and associated documentation files (the \"Software\"), to deal in the Software without restriction, including without limitation the rights to use, copy, modify, merge, publish, distribute, sublicense, and/or sell copies of the Software, and to permit persons to whom the Software is furnished to do so, subject to the following conditions:\n",
    "\n",
    "The above copyright notice and this permission notice shall be included in all copies or substantial portions of the Software.\n",
    "\n",
    "THE SOFTWARE IS PROVIDED \"AS IS\", WITHOUT WARRANTY OF ANY KIND, EXPRESS OR IMPLIED, INCLUDING BUT NOT LIMITED TO THE WARRANTIES OF MERCHANTABILITY, FITNESS FOR A PARTICULAR PURPOSE AND NONINFRINGEMENT. IN NO EVENT SHALL THE AUTHORS OR COPYRIGHT HOLDERS BE LIABLE FOR ANY CLAIM, DAMAGES OR OTHER LIABILITY, WHETHER IN AN ACTION OF CONTRACT, TORT OR OTHERWISE, ARISING FROM, OUT OF OR IN CONNECTION WITH THE SOFTWARE OR THE USE OR OTHER DEALINGS IN THE SOFTWARE."
   ]
  },
  {
   "cell_type": "code",
   "execution_count": null,
   "metadata": {},
   "outputs": [],
   "source": []
  }
 ],
 "metadata": {
  "kernelspec": {
   "display_name": "Python 3",
   "language": "python",
   "name": "python3"
  },
  "language_info": {
   "codemirror_mode": {
    "name": "ipython",
    "version": 3
   },
   "file_extension": ".py",
   "mimetype": "text/x-python",
   "name": "python",
   "nbconvert_exporter": "python",
   "pygments_lexer": "ipython3",
   "version": "3.7.0"
  }
 },
 "nbformat": 4,
 "nbformat_minor": 2
}
